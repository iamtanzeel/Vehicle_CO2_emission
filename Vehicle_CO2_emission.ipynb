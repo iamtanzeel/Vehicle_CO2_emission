{
 "cells": [
  {
   "cell_type": "markdown",
   "id": "c0642c32",
   "metadata": {},
   "source": [
    "# CO2 emission by Vehicles:\n",
    "\n",
    "This dataset captures the details of how CO2 emissions by a vehicle can vary with the different features. The dataset has been taken from Canada Government official open data website. This is a compiled version. This contains data over a period of 7 years.\n",
    "\n",
    "The dataset is available on Kaggle: https://www.kaggle.com/datasets/debajyotipodder/co2-emission-by-vehicles"
   ]
  },
  {
   "cell_type": "markdown",
   "id": "68b9d500",
   "metadata": {},
   "source": [
    "## Problems to analyse:\n",
    "\n",
    "Determine or test the influence of different variables on the emission of CO2.\n",
    "\n",
    "What are the most influencing features that affect the CO2 emission the most?\n",
    "\n",
    "Will there be any difference in the CO2 emissions when Fuel Consumption for City and Highway are considered separately and when their weighted variable interaction is considered?"
   ]
  },
  {
   "cell_type": "markdown",
   "id": "c0f84b5d",
   "metadata": {},
   "source": [
    "# Importing required libraries"
   ]
  },
  {
   "cell_type": "code",
   "execution_count": 1,
   "id": "3c38c6aa",
   "metadata": {},
   "outputs": [],
   "source": [
    "import pandas as pd\n",
    "import numpy as np\n",
    "import matplotlib.pyplot as plt\n",
    "import seaborn as sns\n",
    "\n",
    "%matplotlib inline\n",
    "\n",
    "import warnings\n",
    "warnings.filterwarnings('ignore')"
   ]
  },
  {
   "cell_type": "code",
   "execution_count": 2,
   "id": "523fbe02",
   "metadata": {},
   "outputs": [
    {
     "data": {
      "text/html": [
       "<div>\n",
       "<style scoped>\n",
       "    .dataframe tbody tr th:only-of-type {\n",
       "        vertical-align: middle;\n",
       "    }\n",
       "\n",
       "    .dataframe tbody tr th {\n",
       "        vertical-align: top;\n",
       "    }\n",
       "\n",
       "    .dataframe thead th {\n",
       "        text-align: right;\n",
       "    }\n",
       "</style>\n",
       "<table border=\"1\" class=\"dataframe\">\n",
       "  <thead>\n",
       "    <tr style=\"text-align: right;\">\n",
       "      <th></th>\n",
       "      <th>Make</th>\n",
       "      <th>Model</th>\n",
       "      <th>Vehicle Class</th>\n",
       "      <th>Engine Size(L)</th>\n",
       "      <th>Cylinders</th>\n",
       "      <th>Transmission</th>\n",
       "      <th>Fuel Type</th>\n",
       "      <th>Fuel Consumption City (L/100 km)</th>\n",
       "      <th>Fuel Consumption Hwy (L/100 km)</th>\n",
       "      <th>Fuel Consumption Comb (L/100 km)</th>\n",
       "      <th>Fuel Consumption Comb (mpg)</th>\n",
       "      <th>CO2 Emissions(g/km)</th>\n",
       "    </tr>\n",
       "  </thead>\n",
       "  <tbody>\n",
       "    <tr>\n",
       "      <th>0</th>\n",
       "      <td>ACURA</td>\n",
       "      <td>ILX</td>\n",
       "      <td>COMPACT</td>\n",
       "      <td>2.0</td>\n",
       "      <td>4</td>\n",
       "      <td>AS5</td>\n",
       "      <td>Z</td>\n",
       "      <td>9.9</td>\n",
       "      <td>6.7</td>\n",
       "      <td>8.5</td>\n",
       "      <td>33</td>\n",
       "      <td>196</td>\n",
       "    </tr>\n",
       "    <tr>\n",
       "      <th>1</th>\n",
       "      <td>ACURA</td>\n",
       "      <td>ILX</td>\n",
       "      <td>COMPACT</td>\n",
       "      <td>2.4</td>\n",
       "      <td>4</td>\n",
       "      <td>M6</td>\n",
       "      <td>Z</td>\n",
       "      <td>11.2</td>\n",
       "      <td>7.7</td>\n",
       "      <td>9.6</td>\n",
       "      <td>29</td>\n",
       "      <td>221</td>\n",
       "    </tr>\n",
       "    <tr>\n",
       "      <th>2</th>\n",
       "      <td>ACURA</td>\n",
       "      <td>ILX HYBRID</td>\n",
       "      <td>COMPACT</td>\n",
       "      <td>1.5</td>\n",
       "      <td>4</td>\n",
       "      <td>AV7</td>\n",
       "      <td>Z</td>\n",
       "      <td>6.0</td>\n",
       "      <td>5.8</td>\n",
       "      <td>5.9</td>\n",
       "      <td>48</td>\n",
       "      <td>136</td>\n",
       "    </tr>\n",
       "    <tr>\n",
       "      <th>3</th>\n",
       "      <td>ACURA</td>\n",
       "      <td>MDX 4WD</td>\n",
       "      <td>SUV - SMALL</td>\n",
       "      <td>3.5</td>\n",
       "      <td>6</td>\n",
       "      <td>AS6</td>\n",
       "      <td>Z</td>\n",
       "      <td>12.7</td>\n",
       "      <td>9.1</td>\n",
       "      <td>11.1</td>\n",
       "      <td>25</td>\n",
       "      <td>255</td>\n",
       "    </tr>\n",
       "    <tr>\n",
       "      <th>4</th>\n",
       "      <td>ACURA</td>\n",
       "      <td>RDX AWD</td>\n",
       "      <td>SUV - SMALL</td>\n",
       "      <td>3.5</td>\n",
       "      <td>6</td>\n",
       "      <td>AS6</td>\n",
       "      <td>Z</td>\n",
       "      <td>12.1</td>\n",
       "      <td>8.7</td>\n",
       "      <td>10.6</td>\n",
       "      <td>27</td>\n",
       "      <td>244</td>\n",
       "    </tr>\n",
       "  </tbody>\n",
       "</table>\n",
       "</div>"
      ],
      "text/plain": [
       "    Make       Model Vehicle Class  Engine Size(L)  Cylinders Transmission  \\\n",
       "0  ACURA         ILX       COMPACT             2.0          4          AS5   \n",
       "1  ACURA         ILX       COMPACT             2.4          4           M6   \n",
       "2  ACURA  ILX HYBRID       COMPACT             1.5          4          AV7   \n",
       "3  ACURA     MDX 4WD   SUV - SMALL             3.5          6          AS6   \n",
       "4  ACURA     RDX AWD   SUV - SMALL             3.5          6          AS6   \n",
       "\n",
       "  Fuel Type  Fuel Consumption City (L/100 km)  \\\n",
       "0         Z                               9.9   \n",
       "1         Z                              11.2   \n",
       "2         Z                               6.0   \n",
       "3         Z                              12.7   \n",
       "4         Z                              12.1   \n",
       "\n",
       "   Fuel Consumption Hwy (L/100 km)  Fuel Consumption Comb (L/100 km)  \\\n",
       "0                              6.7                               8.5   \n",
       "1                              7.7                               9.6   \n",
       "2                              5.8                               5.9   \n",
       "3                              9.1                              11.1   \n",
       "4                              8.7                              10.6   \n",
       "\n",
       "   Fuel Consumption Comb (mpg)  CO2 Emissions(g/km)  \n",
       "0                           33                  196  \n",
       "1                           29                  221  \n",
       "2                           48                  136  \n",
       "3                           25                  255  \n",
       "4                           27                  244  "
      ]
     },
     "execution_count": 2,
     "metadata": {},
     "output_type": "execute_result"
    }
   ],
   "source": [
    "dataset = pd.read_csv(\"CO2 Emissions_Canada.csv\")\n",
    "dataset.head()"
   ]
  },
  {
   "cell_type": "markdown",
   "id": "374e5b69",
   "metadata": {},
   "source": [
    "## Understanding the Data\n",
    "\n",
    "Model\t4WD/4X4 = Four-wheel drive\n",
    "\n",
    "\tAWD = All-wheel drive\n",
    "\tFFV = Flexible-fuel vehicle\n",
    "\tSWB = Short wheelbase\n",
    "\tLWB = Long wheelbase\n",
    "\tEWB = Extended wheelbase\n",
    "    \n",
    "Transmission\t\n",
    "    \n",
    "    A = automatic\n",
    "\tAM = automated manual\n",
    "\tAS = automatic with select shift\n",
    "\tAV = continuously variable\n",
    "\tM = manual\n",
    "\t3 - 10 = Number of gears\n",
    "    \n",
    "Fuel type\t\n",
    "    \n",
    "    X = regular gasoline\n",
    "\tZ = premium gasoline\n",
    "\tD = diesel\n",
    "\tE = ethanol (E85)\n",
    "\tN = natural gas\n",
    "    \n",
    "Fuel consumption:\tCity and highway fuel consumption ratings are shown in litres per 100 kilometres (L/100 km) - the combined rating (55% city, 45% hwy) is shown in L/100 km and in miles per imperial gallon (mpg)\n",
    "\n",
    "CO2 emissions:\tthe tailpipe emissions of carbon dioxide (in grams per kilometre) for combined city and highway driving\n"
   ]
  },
  {
   "cell_type": "markdown",
   "id": "8ca06adb",
   "metadata": {},
   "source": [
    "# EDA"
   ]
  },
  {
   "cell_type": "markdown",
   "id": "46edbd23",
   "metadata": {},
   "source": [
    "## Data Cleaning and Reorganizing"
   ]
  },
  {
   "cell_type": "code",
   "execution_count": 3,
   "id": "89d2ae37",
   "metadata": {},
   "outputs": [],
   "source": [
    "df = dataset.copy()"
   ]
  },
  {
   "cell_type": "code",
   "execution_count": 4,
   "id": "96d0da4b",
   "metadata": {},
   "outputs": [
    {
     "data": {
      "text/html": [
       "<div>\n",
       "<style scoped>\n",
       "    .dataframe tbody tr th:only-of-type {\n",
       "        vertical-align: middle;\n",
       "    }\n",
       "\n",
       "    .dataframe tbody tr th {\n",
       "        vertical-align: top;\n",
       "    }\n",
       "\n",
       "    .dataframe thead th {\n",
       "        text-align: right;\n",
       "    }\n",
       "</style>\n",
       "<table border=\"1\" class=\"dataframe\">\n",
       "  <thead>\n",
       "    <tr style=\"text-align: right;\">\n",
       "      <th></th>\n",
       "      <th>Make</th>\n",
       "      <th>Model</th>\n",
       "      <th>Vehicle Class</th>\n",
       "      <th>Engine Size(L)</th>\n",
       "      <th>Cylinders</th>\n",
       "      <th>Transmission</th>\n",
       "      <th>Fuel Type</th>\n",
       "      <th>Fuel Consumption City (L/100 km)</th>\n",
       "      <th>Fuel Consumption Hwy (L/100 km)</th>\n",
       "      <th>Fuel Consumption Comb (L/100 km)</th>\n",
       "      <th>Fuel Consumption Comb (mpg)</th>\n",
       "      <th>CO2 Emissions(g/km)</th>\n",
       "    </tr>\n",
       "  </thead>\n",
       "  <tbody>\n",
       "    <tr>\n",
       "      <th>0</th>\n",
       "      <td>ACURA</td>\n",
       "      <td>ILX</td>\n",
       "      <td>COMPACT</td>\n",
       "      <td>2.0</td>\n",
       "      <td>4</td>\n",
       "      <td>AS5</td>\n",
       "      <td>Z</td>\n",
       "      <td>9.9</td>\n",
       "      <td>6.7</td>\n",
       "      <td>8.5</td>\n",
       "      <td>33</td>\n",
       "      <td>196</td>\n",
       "    </tr>\n",
       "    <tr>\n",
       "      <th>1</th>\n",
       "      <td>ACURA</td>\n",
       "      <td>ILX</td>\n",
       "      <td>COMPACT</td>\n",
       "      <td>2.4</td>\n",
       "      <td>4</td>\n",
       "      <td>M6</td>\n",
       "      <td>Z</td>\n",
       "      <td>11.2</td>\n",
       "      <td>7.7</td>\n",
       "      <td>9.6</td>\n",
       "      <td>29</td>\n",
       "      <td>221</td>\n",
       "    </tr>\n",
       "    <tr>\n",
       "      <th>2</th>\n",
       "      <td>ACURA</td>\n",
       "      <td>ILX HYBRID</td>\n",
       "      <td>COMPACT</td>\n",
       "      <td>1.5</td>\n",
       "      <td>4</td>\n",
       "      <td>AV7</td>\n",
       "      <td>Z</td>\n",
       "      <td>6.0</td>\n",
       "      <td>5.8</td>\n",
       "      <td>5.9</td>\n",
       "      <td>48</td>\n",
       "      <td>136</td>\n",
       "    </tr>\n",
       "    <tr>\n",
       "      <th>3</th>\n",
       "      <td>ACURA</td>\n",
       "      <td>MDX 4WD</td>\n",
       "      <td>SUV - SMALL</td>\n",
       "      <td>3.5</td>\n",
       "      <td>6</td>\n",
       "      <td>AS6</td>\n",
       "      <td>Z</td>\n",
       "      <td>12.7</td>\n",
       "      <td>9.1</td>\n",
       "      <td>11.1</td>\n",
       "      <td>25</td>\n",
       "      <td>255</td>\n",
       "    </tr>\n",
       "    <tr>\n",
       "      <th>4</th>\n",
       "      <td>ACURA</td>\n",
       "      <td>RDX AWD</td>\n",
       "      <td>SUV - SMALL</td>\n",
       "      <td>3.5</td>\n",
       "      <td>6</td>\n",
       "      <td>AS6</td>\n",
       "      <td>Z</td>\n",
       "      <td>12.1</td>\n",
       "      <td>8.7</td>\n",
       "      <td>10.6</td>\n",
       "      <td>27</td>\n",
       "      <td>244</td>\n",
       "    </tr>\n",
       "  </tbody>\n",
       "</table>\n",
       "</div>"
      ],
      "text/plain": [
       "    Make       Model Vehicle Class  Engine Size(L)  Cylinders Transmission  \\\n",
       "0  ACURA         ILX       COMPACT             2.0          4          AS5   \n",
       "1  ACURA         ILX       COMPACT             2.4          4           M6   \n",
       "2  ACURA  ILX HYBRID       COMPACT             1.5          4          AV7   \n",
       "3  ACURA     MDX 4WD   SUV - SMALL             3.5          6          AS6   \n",
       "4  ACURA     RDX AWD   SUV - SMALL             3.5          6          AS6   \n",
       "\n",
       "  Fuel Type  Fuel Consumption City (L/100 km)  \\\n",
       "0         Z                               9.9   \n",
       "1         Z                              11.2   \n",
       "2         Z                               6.0   \n",
       "3         Z                              12.7   \n",
       "4         Z                              12.1   \n",
       "\n",
       "   Fuel Consumption Hwy (L/100 km)  Fuel Consumption Comb (L/100 km)  \\\n",
       "0                              6.7                               8.5   \n",
       "1                              7.7                               9.6   \n",
       "2                              5.8                               5.9   \n",
       "3                              9.1                              11.1   \n",
       "4                              8.7                              10.6   \n",
       "\n",
       "   Fuel Consumption Comb (mpg)  CO2 Emissions(g/km)  \n",
       "0                           33                  196  \n",
       "1                           29                  221  \n",
       "2                           48                  136  \n",
       "3                           25                  255  \n",
       "4                           27                  244  "
      ]
     },
     "execution_count": 4,
     "metadata": {},
     "output_type": "execute_result"
    }
   ],
   "source": [
    "df.head()"
   ]
  },
  {
   "cell_type": "markdown",
   "id": "f9ae8838",
   "metadata": {},
   "source": [
    "### Dropping irrelevant columns:"
   ]
  },
  {
   "cell_type": "code",
   "execution_count": 5,
   "id": "59f036e9",
   "metadata": {},
   "outputs": [],
   "source": [
    "df.drop(['Make','Model','Vehicle Class'],axis=1,inplace=True)"
   ]
  },
  {
   "cell_type": "code",
   "execution_count": 6,
   "id": "15860fa4",
   "metadata": {},
   "outputs": [
    {
     "data": {
      "text/plain": [
       "AS6     1324\n",
       "AS8     1211\n",
       "M6       901\n",
       "A6       789\n",
       "A8       490\n",
       "AM7      445\n",
       "A9       339\n",
       "AS7      319\n",
       "AV       295\n",
       "M5       193\n",
       "AS10     168\n",
       "AM6      132\n",
       "AV7      118\n",
       "AV6      113\n",
       "M7        91\n",
       "A5        84\n",
       "AS9       77\n",
       "A4        65\n",
       "AM8       62\n",
       "A7        53\n",
       "AV8       39\n",
       "A10       31\n",
       "AS5       26\n",
       "AV10      11\n",
       "AM5        4\n",
       "AM9        3\n",
       "AS4        2\n",
       "Name: Transmission, dtype: int64"
      ]
     },
     "execution_count": 6,
     "metadata": {},
     "output_type": "execute_result"
    }
   ],
   "source": [
    "dataset['Transmission'].value_counts()"
   ]
  },
  {
   "cell_type": "markdown",
   "id": "5da4da82",
   "metadata": {},
   "source": [
    "#### We can seperate the Number of Gears and Transmission Type from the Transmission column into seperate columns. "
   ]
  },
  {
   "cell_type": "markdown",
   "id": "96e31667",
   "metadata": {},
   "source": [
    "### Writing a function to seperate numbers from text and make it into desired number-number format:\n",
    "        "
   ]
  },
  {
   "cell_type": "code",
   "execution_count": 7,
   "id": "d4b3f19a",
   "metadata": {},
   "outputs": [],
   "source": [
    "import re\n",
    "\n",
    "\n",
    "def transmission_type(text): #For transmission type\n",
    "    \n",
    "    x = re.findall(r'([A-Z]+)',text) # finding the text in the given string and storing it in variable x\n",
    "    for i in x:\n",
    "        transmission = i #looping through the list x \n",
    "\n",
    "    return transmission\n",
    "\n",
    "\n",
    "def number_of_gears(text): # for number of gears\n",
    "    \n",
    "    x = re.findall(r'([0-9]+)',text) # finding the number in the given string and storing it in variable x\n",
    "    for i in x:\n",
    "        return int(i) #looping through the list x and casting the number into int\n",
    "\n",
    "\n",
    "\n"
   ]
  },
  {
   "cell_type": "markdown",
   "id": "2aa99aa2",
   "metadata": {},
   "source": [
    "### Testing the functions:"
   ]
  },
  {
   "cell_type": "code",
   "execution_count": 8,
   "id": "847f20a8",
   "metadata": {},
   "outputs": [
    {
     "name": "stdout",
     "output_type": "stream",
     "text": [
      "4\n",
      "<class 'int'>\n"
     ]
    }
   ],
   "source": [
    "func_test = number_of_gears('AS4')\n",
    "\n",
    "print(func_test)\n",
    "print(type(func_test))"
   ]
  },
  {
   "cell_type": "code",
   "execution_count": 9,
   "id": "cd2a312e",
   "metadata": {},
   "outputs": [
    {
     "name": "stdout",
     "output_type": "stream",
     "text": [
      "AS\n",
      "<class 'str'>\n"
     ]
    }
   ],
   "source": [
    "func_test = transmission_type('AS4')\n",
    "\n",
    "print(func_test)\n",
    "print(type(func_test))"
   ]
  },
  {
   "cell_type": "markdown",
   "id": "a6db0e36",
   "metadata": {},
   "source": [
    "#### The function works as expected and required. Now we can seperate the Number of Gears from the transmission type."
   ]
  },
  {
   "cell_type": "code",
   "execution_count": 10,
   "id": "95ad0e70",
   "metadata": {},
   "outputs": [],
   "source": [
    "df['Number_of_gears'] = df['Transmission'].apply(number_of_gears)\n",
    "df['Transmission_type'] = df['Transmission'].apply(transmission_type)"
   ]
  },
  {
   "cell_type": "markdown",
   "id": "b66064c5",
   "metadata": {},
   "source": [
    "### Dropping the Transmission column"
   ]
  },
  {
   "cell_type": "code",
   "execution_count": 11,
   "id": "98b3019a",
   "metadata": {},
   "outputs": [],
   "source": [
    "df.drop('Transmission',axis=1,inplace=True)"
   ]
  },
  {
   "cell_type": "code",
   "execution_count": 12,
   "id": "d312d887",
   "metadata": {},
   "outputs": [
    {
     "data": {
      "text/html": [
       "<div>\n",
       "<style scoped>\n",
       "    .dataframe tbody tr th:only-of-type {\n",
       "        vertical-align: middle;\n",
       "    }\n",
       "\n",
       "    .dataframe tbody tr th {\n",
       "        vertical-align: top;\n",
       "    }\n",
       "\n",
       "    .dataframe thead th {\n",
       "        text-align: right;\n",
       "    }\n",
       "</style>\n",
       "<table border=\"1\" class=\"dataframe\">\n",
       "  <thead>\n",
       "    <tr style=\"text-align: right;\">\n",
       "      <th></th>\n",
       "      <th>Engine Size(L)</th>\n",
       "      <th>Cylinders</th>\n",
       "      <th>Fuel Type</th>\n",
       "      <th>Fuel Consumption City (L/100 km)</th>\n",
       "      <th>Fuel Consumption Hwy (L/100 km)</th>\n",
       "      <th>Fuel Consumption Comb (L/100 km)</th>\n",
       "      <th>Fuel Consumption Comb (mpg)</th>\n",
       "      <th>CO2 Emissions(g/km)</th>\n",
       "      <th>Number_of_gears</th>\n",
       "      <th>Transmission_type</th>\n",
       "    </tr>\n",
       "  </thead>\n",
       "  <tbody>\n",
       "    <tr>\n",
       "      <th>0</th>\n",
       "      <td>2.0</td>\n",
       "      <td>4</td>\n",
       "      <td>Z</td>\n",
       "      <td>9.9</td>\n",
       "      <td>6.7</td>\n",
       "      <td>8.5</td>\n",
       "      <td>33</td>\n",
       "      <td>196</td>\n",
       "      <td>5.0</td>\n",
       "      <td>AS</td>\n",
       "    </tr>\n",
       "    <tr>\n",
       "      <th>1</th>\n",
       "      <td>2.4</td>\n",
       "      <td>4</td>\n",
       "      <td>Z</td>\n",
       "      <td>11.2</td>\n",
       "      <td>7.7</td>\n",
       "      <td>9.6</td>\n",
       "      <td>29</td>\n",
       "      <td>221</td>\n",
       "      <td>6.0</td>\n",
       "      <td>M</td>\n",
       "    </tr>\n",
       "    <tr>\n",
       "      <th>2</th>\n",
       "      <td>1.5</td>\n",
       "      <td>4</td>\n",
       "      <td>Z</td>\n",
       "      <td>6.0</td>\n",
       "      <td>5.8</td>\n",
       "      <td>5.9</td>\n",
       "      <td>48</td>\n",
       "      <td>136</td>\n",
       "      <td>7.0</td>\n",
       "      <td>AV</td>\n",
       "    </tr>\n",
       "    <tr>\n",
       "      <th>3</th>\n",
       "      <td>3.5</td>\n",
       "      <td>6</td>\n",
       "      <td>Z</td>\n",
       "      <td>12.7</td>\n",
       "      <td>9.1</td>\n",
       "      <td>11.1</td>\n",
       "      <td>25</td>\n",
       "      <td>255</td>\n",
       "      <td>6.0</td>\n",
       "      <td>AS</td>\n",
       "    </tr>\n",
       "    <tr>\n",
       "      <th>4</th>\n",
       "      <td>3.5</td>\n",
       "      <td>6</td>\n",
       "      <td>Z</td>\n",
       "      <td>12.1</td>\n",
       "      <td>8.7</td>\n",
       "      <td>10.6</td>\n",
       "      <td>27</td>\n",
       "      <td>244</td>\n",
       "      <td>6.0</td>\n",
       "      <td>AS</td>\n",
       "    </tr>\n",
       "  </tbody>\n",
       "</table>\n",
       "</div>"
      ],
      "text/plain": [
       "   Engine Size(L)  Cylinders Fuel Type  Fuel Consumption City (L/100 km)  \\\n",
       "0             2.0          4         Z                               9.9   \n",
       "1             2.4          4         Z                              11.2   \n",
       "2             1.5          4         Z                               6.0   \n",
       "3             3.5          6         Z                              12.7   \n",
       "4             3.5          6         Z                              12.1   \n",
       "\n",
       "   Fuel Consumption Hwy (L/100 km)  Fuel Consumption Comb (L/100 km)  \\\n",
       "0                              6.7                               8.5   \n",
       "1                              7.7                               9.6   \n",
       "2                              5.8                               5.9   \n",
       "3                              9.1                              11.1   \n",
       "4                              8.7                              10.6   \n",
       "\n",
       "   Fuel Consumption Comb (mpg)  CO2 Emissions(g/km)  Number_of_gears  \\\n",
       "0                           33                  196              5.0   \n",
       "1                           29                  221              6.0   \n",
       "2                           48                  136              7.0   \n",
       "3                           25                  255              6.0   \n",
       "4                           27                  244              6.0   \n",
       "\n",
       "  Transmission_type  \n",
       "0                AS  \n",
       "1                 M  \n",
       "2                AV  \n",
       "3                AS  \n",
       "4                AS  "
      ]
     },
     "execution_count": 12,
     "metadata": {},
     "output_type": "execute_result"
    }
   ],
   "source": [
    "df.head()"
   ]
  },
  {
   "cell_type": "markdown",
   "id": "c79b986e",
   "metadata": {},
   "source": [
    "### Converting the Fuel Consumption columns from L/100 km to kmpl (kilometer per litre)"
   ]
  },
  {
   "cell_type": "code",
   "execution_count": 13,
   "id": "648b06ea",
   "metadata": {},
   "outputs": [],
   "source": [
    "df['fuel_consumption_city(kmpl)'] = round(100/df['Fuel Consumption City (L/100 km)'],3)\n",
    "df['fuel_consumption_hwy(kmpl)'] = round(100/df['Fuel Consumption Hwy (L/100 km)'],3)\n",
    "df['fuel_consumption_comb(kmpl)'] = round(100/df['Fuel Consumption Comb (L/100 km)'],3)"
   ]
  },
  {
   "cell_type": "markdown",
   "id": "b62356c8",
   "metadata": {},
   "source": [
    "### Dropping the Fuel Consumptions in L/100 columns"
   ]
  },
  {
   "cell_type": "code",
   "execution_count": 14,
   "id": "bbd7eeef",
   "metadata": {},
   "outputs": [],
   "source": [
    "df.drop(['Fuel Consumption City (L/100 km)','Fuel Consumption Hwy (L/100 km)',\n",
    "        'Fuel Consumption Comb (L/100 km)','Fuel Consumption Comb (mpg)'],axis=1,inplace=True)"
   ]
  },
  {
   "cell_type": "code",
   "execution_count": 15,
   "id": "9decdd56",
   "metadata": {},
   "outputs": [
    {
     "data": {
      "text/html": [
       "<div>\n",
       "<style scoped>\n",
       "    .dataframe tbody tr th:only-of-type {\n",
       "        vertical-align: middle;\n",
       "    }\n",
       "\n",
       "    .dataframe tbody tr th {\n",
       "        vertical-align: top;\n",
       "    }\n",
       "\n",
       "    .dataframe thead th {\n",
       "        text-align: right;\n",
       "    }\n",
       "</style>\n",
       "<table border=\"1\" class=\"dataframe\">\n",
       "  <thead>\n",
       "    <tr style=\"text-align: right;\">\n",
       "      <th></th>\n",
       "      <th>Engine Size(L)</th>\n",
       "      <th>Cylinders</th>\n",
       "      <th>Fuel Type</th>\n",
       "      <th>CO2 Emissions(g/km)</th>\n",
       "      <th>Number_of_gears</th>\n",
       "      <th>Transmission_type</th>\n",
       "      <th>fuel_consumption_city(kmpl)</th>\n",
       "      <th>fuel_consumption_hwy(kmpl)</th>\n",
       "      <th>fuel_consumption_comb(kmpl)</th>\n",
       "    </tr>\n",
       "  </thead>\n",
       "  <tbody>\n",
       "    <tr>\n",
       "      <th>0</th>\n",
       "      <td>2.0</td>\n",
       "      <td>4</td>\n",
       "      <td>Z</td>\n",
       "      <td>196</td>\n",
       "      <td>5.0</td>\n",
       "      <td>AS</td>\n",
       "      <td>10.101</td>\n",
       "      <td>14.925</td>\n",
       "      <td>11.765</td>\n",
       "    </tr>\n",
       "    <tr>\n",
       "      <th>1</th>\n",
       "      <td>2.4</td>\n",
       "      <td>4</td>\n",
       "      <td>Z</td>\n",
       "      <td>221</td>\n",
       "      <td>6.0</td>\n",
       "      <td>M</td>\n",
       "      <td>8.929</td>\n",
       "      <td>12.987</td>\n",
       "      <td>10.417</td>\n",
       "    </tr>\n",
       "    <tr>\n",
       "      <th>2</th>\n",
       "      <td>1.5</td>\n",
       "      <td>4</td>\n",
       "      <td>Z</td>\n",
       "      <td>136</td>\n",
       "      <td>7.0</td>\n",
       "      <td>AV</td>\n",
       "      <td>16.667</td>\n",
       "      <td>17.241</td>\n",
       "      <td>16.949</td>\n",
       "    </tr>\n",
       "    <tr>\n",
       "      <th>3</th>\n",
       "      <td>3.5</td>\n",
       "      <td>6</td>\n",
       "      <td>Z</td>\n",
       "      <td>255</td>\n",
       "      <td>6.0</td>\n",
       "      <td>AS</td>\n",
       "      <td>7.874</td>\n",
       "      <td>10.989</td>\n",
       "      <td>9.009</td>\n",
       "    </tr>\n",
       "    <tr>\n",
       "      <th>4</th>\n",
       "      <td>3.5</td>\n",
       "      <td>6</td>\n",
       "      <td>Z</td>\n",
       "      <td>244</td>\n",
       "      <td>6.0</td>\n",
       "      <td>AS</td>\n",
       "      <td>8.264</td>\n",
       "      <td>11.494</td>\n",
       "      <td>9.434</td>\n",
       "    </tr>\n",
       "  </tbody>\n",
       "</table>\n",
       "</div>"
      ],
      "text/plain": [
       "   Engine Size(L)  Cylinders Fuel Type  CO2 Emissions(g/km)  Number_of_gears  \\\n",
       "0             2.0          4         Z                  196              5.0   \n",
       "1             2.4          4         Z                  221              6.0   \n",
       "2             1.5          4         Z                  136              7.0   \n",
       "3             3.5          6         Z                  255              6.0   \n",
       "4             3.5          6         Z                  244              6.0   \n",
       "\n",
       "  Transmission_type  fuel_consumption_city(kmpl)  fuel_consumption_hwy(kmpl)  \\\n",
       "0                AS                       10.101                      14.925   \n",
       "1                 M                        8.929                      12.987   \n",
       "2                AV                       16.667                      17.241   \n",
       "3                AS                        7.874                      10.989   \n",
       "4                AS                        8.264                      11.494   \n",
       "\n",
       "   fuel_consumption_comb(kmpl)  \n",
       "0                       11.765  \n",
       "1                       10.417  \n",
       "2                       16.949  \n",
       "3                        9.009  \n",
       "4                        9.434  "
      ]
     },
     "execution_count": 15,
     "metadata": {},
     "output_type": "execute_result"
    }
   ],
   "source": [
    "df.head()"
   ]
  },
  {
   "cell_type": "markdown",
   "id": "2209df9a",
   "metadata": {},
   "source": [
    "### Rearranging the columns:"
   ]
  },
  {
   "cell_type": "code",
   "execution_count": 16,
   "id": "3fefe56c",
   "metadata": {},
   "outputs": [
    {
     "data": {
      "text/plain": [
       "Index(['Engine Size(L)', 'Cylinders', 'Fuel Type', 'CO2 Emissions(g/km)',\n",
       "       'Number_of_gears', 'Transmission_type', 'fuel_consumption_city(kmpl)',\n",
       "       'fuel_consumption_hwy(kmpl)', 'fuel_consumption_comb(kmpl)'],\n",
       "      dtype='object')"
      ]
     },
     "execution_count": 16,
     "metadata": {},
     "output_type": "execute_result"
    }
   ],
   "source": [
    "df.columns"
   ]
  },
  {
   "cell_type": "code",
   "execution_count": 17,
   "id": "59032942",
   "metadata": {},
   "outputs": [],
   "source": [
    "cols_rearranged = ['Engine Size(L)', 'Cylinders', 'Fuel Type','Transmission_type',\n",
    "       'Number_of_gears', 'fuel_consumption_city(kmpl)',\n",
    "       'fuel_consumption_hwy(kmpl)', 'fuel_consumption_comb(kmpl)', 'CO2 Emissions(g/km)']\n",
    "\n",
    "df = df[cols_rearranged]"
   ]
  },
  {
   "cell_type": "code",
   "execution_count": 18,
   "id": "f46381a2",
   "metadata": {},
   "outputs": [
    {
     "data": {
      "text/html": [
       "<div>\n",
       "<style scoped>\n",
       "    .dataframe tbody tr th:only-of-type {\n",
       "        vertical-align: middle;\n",
       "    }\n",
       "\n",
       "    .dataframe tbody tr th {\n",
       "        vertical-align: top;\n",
       "    }\n",
       "\n",
       "    .dataframe thead th {\n",
       "        text-align: right;\n",
       "    }\n",
       "</style>\n",
       "<table border=\"1\" class=\"dataframe\">\n",
       "  <thead>\n",
       "    <tr style=\"text-align: right;\">\n",
       "      <th></th>\n",
       "      <th>Engine Size(L)</th>\n",
       "      <th>Cylinders</th>\n",
       "      <th>Fuel Type</th>\n",
       "      <th>Transmission_type</th>\n",
       "      <th>Number_of_gears</th>\n",
       "      <th>fuel_consumption_city(kmpl)</th>\n",
       "      <th>fuel_consumption_hwy(kmpl)</th>\n",
       "      <th>fuel_consumption_comb(kmpl)</th>\n",
       "      <th>CO2 Emissions(g/km)</th>\n",
       "    </tr>\n",
       "  </thead>\n",
       "  <tbody>\n",
       "    <tr>\n",
       "      <th>0</th>\n",
       "      <td>2.0</td>\n",
       "      <td>4</td>\n",
       "      <td>Z</td>\n",
       "      <td>AS</td>\n",
       "      <td>5.0</td>\n",
       "      <td>10.101</td>\n",
       "      <td>14.925</td>\n",
       "      <td>11.765</td>\n",
       "      <td>196</td>\n",
       "    </tr>\n",
       "    <tr>\n",
       "      <th>1</th>\n",
       "      <td>2.4</td>\n",
       "      <td>4</td>\n",
       "      <td>Z</td>\n",
       "      <td>M</td>\n",
       "      <td>6.0</td>\n",
       "      <td>8.929</td>\n",
       "      <td>12.987</td>\n",
       "      <td>10.417</td>\n",
       "      <td>221</td>\n",
       "    </tr>\n",
       "    <tr>\n",
       "      <th>2</th>\n",
       "      <td>1.5</td>\n",
       "      <td>4</td>\n",
       "      <td>Z</td>\n",
       "      <td>AV</td>\n",
       "      <td>7.0</td>\n",
       "      <td>16.667</td>\n",
       "      <td>17.241</td>\n",
       "      <td>16.949</td>\n",
       "      <td>136</td>\n",
       "    </tr>\n",
       "    <tr>\n",
       "      <th>3</th>\n",
       "      <td>3.5</td>\n",
       "      <td>6</td>\n",
       "      <td>Z</td>\n",
       "      <td>AS</td>\n",
       "      <td>6.0</td>\n",
       "      <td>7.874</td>\n",
       "      <td>10.989</td>\n",
       "      <td>9.009</td>\n",
       "      <td>255</td>\n",
       "    </tr>\n",
       "    <tr>\n",
       "      <th>4</th>\n",
       "      <td>3.5</td>\n",
       "      <td>6</td>\n",
       "      <td>Z</td>\n",
       "      <td>AS</td>\n",
       "      <td>6.0</td>\n",
       "      <td>8.264</td>\n",
       "      <td>11.494</td>\n",
       "      <td>9.434</td>\n",
       "      <td>244</td>\n",
       "    </tr>\n",
       "  </tbody>\n",
       "</table>\n",
       "</div>"
      ],
      "text/plain": [
       "   Engine Size(L)  Cylinders Fuel Type Transmission_type  Number_of_gears  \\\n",
       "0             2.0          4         Z                AS              5.0   \n",
       "1             2.4          4         Z                 M              6.0   \n",
       "2             1.5          4         Z                AV              7.0   \n",
       "3             3.5          6         Z                AS              6.0   \n",
       "4             3.5          6         Z                AS              6.0   \n",
       "\n",
       "   fuel_consumption_city(kmpl)  fuel_consumption_hwy(kmpl)  \\\n",
       "0                       10.101                      14.925   \n",
       "1                        8.929                      12.987   \n",
       "2                       16.667                      17.241   \n",
       "3                        7.874                      10.989   \n",
       "4                        8.264                      11.494   \n",
       "\n",
       "   fuel_consumption_comb(kmpl)  CO2 Emissions(g/km)  \n",
       "0                       11.765                  196  \n",
       "1                       10.417                  221  \n",
       "2                       16.949                  136  \n",
       "3                        9.009                  255  \n",
       "4                        9.434                  244  "
      ]
     },
     "execution_count": 18,
     "metadata": {},
     "output_type": "execute_result"
    }
   ],
   "source": [
    "df.head()"
   ]
  },
  {
   "cell_type": "markdown",
   "id": "8445b3f8",
   "metadata": {},
   "source": [
    "## Analysing the Data"
   ]
  },
  {
   "cell_type": "code",
   "execution_count": 19,
   "id": "88e4c698",
   "metadata": {},
   "outputs": [
    {
     "data": {
      "text/plain": [
       "Index(['Engine Size(L)', 'Cylinders', 'Fuel Type', 'Transmission_type',\n",
       "       'Number_of_gears', 'fuel_consumption_city(kmpl)',\n",
       "       'fuel_consumption_hwy(kmpl)', 'fuel_consumption_comb(kmpl)',\n",
       "       'CO2 Emissions(g/km)'],\n",
       "      dtype='object')"
      ]
     },
     "execution_count": 19,
     "metadata": {},
     "output_type": "execute_result"
    }
   ],
   "source": [
    "df.columns"
   ]
  },
  {
   "cell_type": "code",
   "execution_count": 20,
   "id": "9a603863",
   "metadata": {},
   "outputs": [
    {
     "data": {
      "text/plain": [
       "(7385, 9)"
      ]
     },
     "execution_count": 20,
     "metadata": {},
     "output_type": "execute_result"
    }
   ],
   "source": [
    "df.shape"
   ]
  },
  {
   "cell_type": "code",
   "execution_count": 21,
   "id": "7c8408d5",
   "metadata": {},
   "outputs": [
    {
     "name": "stdout",
     "output_type": "stream",
     "text": [
      "<class 'pandas.core.frame.DataFrame'>\n",
      "RangeIndex: 7385 entries, 0 to 7384\n",
      "Data columns (total 9 columns):\n",
      " #   Column                       Non-Null Count  Dtype  \n",
      "---  ------                       --------------  -----  \n",
      " 0   Engine Size(L)               7385 non-null   float64\n",
      " 1   Cylinders                    7385 non-null   int64  \n",
      " 2   Fuel Type                    7385 non-null   object \n",
      " 3   Transmission_type            7385 non-null   object \n",
      " 4   Number_of_gears              7090 non-null   float64\n",
      " 5   fuel_consumption_city(kmpl)  7385 non-null   float64\n",
      " 6   fuel_consumption_hwy(kmpl)   7385 non-null   float64\n",
      " 7   fuel_consumption_comb(kmpl)  7385 non-null   float64\n",
      " 8   CO2 Emissions(g/km)          7385 non-null   int64  \n",
      "dtypes: float64(5), int64(2), object(2)\n",
      "memory usage: 519.4+ KB\n"
     ]
    }
   ],
   "source": [
    "df.info()"
   ]
  },
  {
   "cell_type": "markdown",
   "id": "fec93968",
   "metadata": {},
   "source": [
    "### Check for null values:"
   ]
  },
  {
   "cell_type": "code",
   "execution_count": 22,
   "id": "4e4e4cdd",
   "metadata": {},
   "outputs": [
    {
     "data": {
      "text/plain": [
       "Engine Size(L)                   0\n",
       "Cylinders                        0\n",
       "Fuel Type                        0\n",
       "Transmission_type                0\n",
       "Number_of_gears                295\n",
       "fuel_consumption_city(kmpl)      0\n",
       "fuel_consumption_hwy(kmpl)       0\n",
       "fuel_consumption_comb(kmpl)      0\n",
       "CO2 Emissions(g/km)              0\n",
       "dtype: int64"
      ]
     },
     "execution_count": 22,
     "metadata": {},
     "output_type": "execute_result"
    }
   ],
   "source": [
    "df.isnull().sum()"
   ]
  },
  {
   "cell_type": "markdown",
   "id": "5d0253e8",
   "metadata": {},
   "source": [
    "The 295 null values in the Number_of_gears comes from the AV category of vehicles. AV refers to continously variable and we can assign it 0 since it does not have gears."
   ]
  },
  {
   "cell_type": "code",
   "execution_count": 23,
   "id": "f55b9366",
   "metadata": {},
   "outputs": [],
   "source": [
    "df['Number_of_gears'].fillna(0,inplace=True)"
   ]
  },
  {
   "cell_type": "code",
   "execution_count": 24,
   "id": "90e85c8f",
   "metadata": {},
   "outputs": [
    {
     "data": {
      "text/plain": [
       "Engine Size(L)                 0\n",
       "Cylinders                      0\n",
       "Fuel Type                      0\n",
       "Transmission_type              0\n",
       "Number_of_gears                0\n",
       "fuel_consumption_city(kmpl)    0\n",
       "fuel_consumption_hwy(kmpl)     0\n",
       "fuel_consumption_comb(kmpl)    0\n",
       "CO2 Emissions(g/km)            0\n",
       "dtype: int64"
      ]
     },
     "execution_count": 24,
     "metadata": {},
     "output_type": "execute_result"
    }
   ],
   "source": [
    "df.isnull().sum()"
   ]
  },
  {
   "cell_type": "markdown",
   "id": "7e74cea9",
   "metadata": {},
   "source": [
    "### Describing the data:"
   ]
  },
  {
   "cell_type": "code",
   "execution_count": 25,
   "id": "ef9bde94",
   "metadata": {},
   "outputs": [
    {
     "data": {
      "text/html": [
       "<div>\n",
       "<style scoped>\n",
       "    .dataframe tbody tr th:only-of-type {\n",
       "        vertical-align: middle;\n",
       "    }\n",
       "\n",
       "    .dataframe tbody tr th {\n",
       "        vertical-align: top;\n",
       "    }\n",
       "\n",
       "    .dataframe thead th {\n",
       "        text-align: right;\n",
       "    }\n",
       "</style>\n",
       "<table border=\"1\" class=\"dataframe\">\n",
       "  <thead>\n",
       "    <tr style=\"text-align: right;\">\n",
       "      <th></th>\n",
       "      <th>count</th>\n",
       "      <th>mean</th>\n",
       "      <th>std</th>\n",
       "      <th>min</th>\n",
       "      <th>25%</th>\n",
       "      <th>50%</th>\n",
       "      <th>75%</th>\n",
       "      <th>max</th>\n",
       "    </tr>\n",
       "  </thead>\n",
       "  <tbody>\n",
       "    <tr>\n",
       "      <th>Engine Size(L)</th>\n",
       "      <td>7385.0</td>\n",
       "      <td>3.160068</td>\n",
       "      <td>1.354170</td>\n",
       "      <td>0.900</td>\n",
       "      <td>2.000</td>\n",
       "      <td>3.000</td>\n",
       "      <td>3.700</td>\n",
       "      <td>8.40</td>\n",
       "    </tr>\n",
       "    <tr>\n",
       "      <th>Cylinders</th>\n",
       "      <td>7385.0</td>\n",
       "      <td>5.615030</td>\n",
       "      <td>1.828307</td>\n",
       "      <td>3.000</td>\n",
       "      <td>4.000</td>\n",
       "      <td>6.000</td>\n",
       "      <td>6.000</td>\n",
       "      <td>16.00</td>\n",
       "    </tr>\n",
       "    <tr>\n",
       "      <th>Number_of_gears</th>\n",
       "      <td>7385.0</td>\n",
       "      <td>6.611510</td>\n",
       "      <td>1.795264</td>\n",
       "      <td>0.000</td>\n",
       "      <td>6.000</td>\n",
       "      <td>6.000</td>\n",
       "      <td>8.000</td>\n",
       "      <td>10.00</td>\n",
       "    </tr>\n",
       "    <tr>\n",
       "      <th>fuel_consumption_city(kmpl)</th>\n",
       "      <td>7385.0</td>\n",
       "      <td>8.603876</td>\n",
       "      <td>2.539148</td>\n",
       "      <td>3.268</td>\n",
       "      <td>6.849</td>\n",
       "      <td>8.264</td>\n",
       "      <td>9.901</td>\n",
       "      <td>23.81</td>\n",
       "    </tr>\n",
       "    <tr>\n",
       "      <th>fuel_consumption_hwy(kmpl)</th>\n",
       "      <td>7385.0</td>\n",
       "      <td>11.684673</td>\n",
       "      <td>2.690151</td>\n",
       "      <td>4.854</td>\n",
       "      <td>9.804</td>\n",
       "      <td>11.494</td>\n",
       "      <td>13.333</td>\n",
       "      <td>25.00</td>\n",
       "    </tr>\n",
       "    <tr>\n",
       "      <th>fuel_consumption_comb(kmpl)</th>\n",
       "      <td>7385.0</td>\n",
       "      <td>9.736521</td>\n",
       "      <td>2.559452</td>\n",
       "      <td>3.831</td>\n",
       "      <td>7.937</td>\n",
       "      <td>9.434</td>\n",
       "      <td>11.236</td>\n",
       "      <td>24.39</td>\n",
       "    </tr>\n",
       "    <tr>\n",
       "      <th>CO2 Emissions(g/km)</th>\n",
       "      <td>7385.0</td>\n",
       "      <td>250.584699</td>\n",
       "      <td>58.512679</td>\n",
       "      <td>96.000</td>\n",
       "      <td>208.000</td>\n",
       "      <td>246.000</td>\n",
       "      <td>288.000</td>\n",
       "      <td>522.00</td>\n",
       "    </tr>\n",
       "  </tbody>\n",
       "</table>\n",
       "</div>"
      ],
      "text/plain": [
       "                              count        mean        std     min      25%  \\\n",
       "Engine Size(L)               7385.0    3.160068   1.354170   0.900    2.000   \n",
       "Cylinders                    7385.0    5.615030   1.828307   3.000    4.000   \n",
       "Number_of_gears              7385.0    6.611510   1.795264   0.000    6.000   \n",
       "fuel_consumption_city(kmpl)  7385.0    8.603876   2.539148   3.268    6.849   \n",
       "fuel_consumption_hwy(kmpl)   7385.0   11.684673   2.690151   4.854    9.804   \n",
       "fuel_consumption_comb(kmpl)  7385.0    9.736521   2.559452   3.831    7.937   \n",
       "CO2 Emissions(g/km)          7385.0  250.584699  58.512679  96.000  208.000   \n",
       "\n",
       "                                 50%      75%     max  \n",
       "Engine Size(L)                 3.000    3.700    8.40  \n",
       "Cylinders                      6.000    6.000   16.00  \n",
       "Number_of_gears                6.000    8.000   10.00  \n",
       "fuel_consumption_city(kmpl)    8.264    9.901   23.81  \n",
       "fuel_consumption_hwy(kmpl)    11.494   13.333   25.00  \n",
       "fuel_consumption_comb(kmpl)    9.434   11.236   24.39  \n",
       "CO2 Emissions(g/km)          246.000  288.000  522.00  "
      ]
     },
     "execution_count": 25,
     "metadata": {},
     "output_type": "execute_result"
    }
   ],
   "source": [
    "df.describe().T"
   ]
  },
  {
   "cell_type": "markdown",
   "id": "d8ce0dfc",
   "metadata": {},
   "source": [
    "### Check for value counts in the Categorical features:"
   ]
  },
  {
   "cell_type": "markdown",
   "id": "93ef443d",
   "metadata": {},
   "source": [
    "### Fuel type\t"
   ]
  },
  {
   "cell_type": "code",
   "execution_count": 26,
   "id": "6c969f59",
   "metadata": {},
   "outputs": [
    {
     "data": {
      "text/plain": [
       "X    3637\n",
       "Z    3202\n",
       "E     370\n",
       "D     175\n",
       "N       1\n",
       "Name: Fuel Type, dtype: int64"
      ]
     },
     "execution_count": 26,
     "metadata": {},
     "output_type": "execute_result"
    }
   ],
   "source": [
    "df['Fuel Type'].value_counts()"
   ]
  },
  {
   "cell_type": "markdown",
   "id": "cffc6477",
   "metadata": {},
   "source": [
    "    X = regular gasoline\n",
    "\tZ = premium gasoline\n",
    "\tD = diesel\n",
    "\tE = ethanol (E85)\n",
    "\tN = natural gas"
   ]
  },
  {
   "cell_type": "markdown",
   "id": "b62e514a",
   "metadata": {},
   "source": [
    "### Transmission Type"
   ]
  },
  {
   "cell_type": "code",
   "execution_count": 27,
   "id": "273ef6cf",
   "metadata": {},
   "outputs": [
    {
     "data": {
      "text/plain": [
       "AS    3127\n",
       "A     1851\n",
       "M     1185\n",
       "AM     646\n",
       "AV     576\n",
       "Name: Transmission_type, dtype: int64"
      ]
     },
     "execution_count": 27,
     "metadata": {},
     "output_type": "execute_result"
    }
   ],
   "source": [
    "df['Transmission_type'].value_counts()"
   ]
  },
  {
   "cell_type": "markdown",
   "id": "fe4eafcd",
   "metadata": {},
   "source": [
    "    A = automatic\n",
    "\tAM = automated manual\n",
    "\tAS = automatic with select shift\n",
    "\tAV = continuously variable\n",
    "\tM = manual"
   ]
  },
  {
   "cell_type": "markdown",
   "id": "d28ad746",
   "metadata": {},
   "source": [
    "### Visualizing the data:"
   ]
  },
  {
   "cell_type": "code",
   "execution_count": 28,
   "id": "1164df30",
   "metadata": {},
   "outputs": [
    {
     "name": "stdout",
     "output_type": "stream",
     "text": [
      "<class 'pandas.core.frame.DataFrame'>\n",
      "RangeIndex: 7385 entries, 0 to 7384\n",
      "Data columns (total 9 columns):\n",
      " #   Column                       Non-Null Count  Dtype  \n",
      "---  ------                       --------------  -----  \n",
      " 0   Engine Size(L)               7385 non-null   float64\n",
      " 1   Cylinders                    7385 non-null   int64  \n",
      " 2   Fuel Type                    7385 non-null   object \n",
      " 3   Transmission_type            7385 non-null   object \n",
      " 4   Number_of_gears              7385 non-null   float64\n",
      " 5   fuel_consumption_city(kmpl)  7385 non-null   float64\n",
      " 6   fuel_consumption_hwy(kmpl)   7385 non-null   float64\n",
      " 7   fuel_consumption_comb(kmpl)  7385 non-null   float64\n",
      " 8   CO2 Emissions(g/km)          7385 non-null   int64  \n",
      "dtypes: float64(5), int64(2), object(2)\n",
      "memory usage: 519.4+ KB\n"
     ]
    }
   ],
   "source": [
    "df.info()"
   ]
  },
  {
   "cell_type": "code",
   "execution_count": 29,
   "id": "ef510afd",
   "metadata": {},
   "outputs": [
    {
     "data": {
      "image/png": "[encoded data removed]",
      "text/plain": [
       "<Figure size 1000x1000 with 6 Axes>"
      ]
     },
     "metadata": {},
     "output_type": "display_data"
    }
   ],
   "source": [
    "fig,ax = plt.subplots(3,2)\n",
    "fig.set_figwidth(10)\n",
    "fig.set_figheight(10)\n",
    "plt.subplots_adjust(hspace=0.5,wspace=0.4)\n",
    "\n",
    "sns.histplot(df['fuel_consumption_city(kmpl)'],kde=True,ax=ax[0][0])\n",
    "sns.histplot(df['fuel_consumption_hwy(kmpl)'],kde=True,ax=ax[0][1])\n",
    "sns.histplot(df['fuel_consumption_comb(kmpl)'],kde=True,ax=ax[1][0])\n",
    "sns.histplot(df['Engine Size(L)'],kde=True,ax=ax[1][1])\n",
    "sns.histplot(df['Cylinders'],kde=True,ax=ax[2][0])\n",
    "sns.histplot(df['CO2 Emissions(g/km)'],kde=True,ax=ax[2][1])\n",
    "\n",
    "\n",
    "plt.show()"
   ]
  },
  {
   "cell_type": "markdown",
   "id": "49259fa1",
   "metadata": {},
   "source": [
    "### Check for Outliers"
   ]
  },
  {
   "cell_type": "code",
   "execution_count": 30,
   "id": "8e0a693a",
   "metadata": {},
   "outputs": [
    {
     "data": {
      "image/png": "[encoded data removed]",
      "text/plain": [
       "<Figure size 1500x800 with 7 Axes>"
      ]
     },
     "metadata": {},
     "output_type": "display_data"
    }
   ],
   "source": [
    "plt.figure(figsize=(15,8))\n",
    "\n",
    "plt.subplots_adjust(hspace=0.8,wspace=0.2)\n",
    "\n",
    "plt.subplot(4,2,1)\n",
    "sns.boxplot(df['fuel_consumption_city(kmpl)'])\n",
    "\n",
    "plt.subplot(4,2,2)\n",
    "sns.boxplot(df['fuel_consumption_hwy(kmpl)'])\n",
    "\n",
    "plt.subplot(4,2,3)\n",
    "sns.boxplot(df['fuel_consumption_comb(kmpl)'])\n",
    "\n",
    "plt.subplot(4,2,4)\n",
    "sns.boxplot(df['Engine Size(L)'])\n",
    "\n",
    "plt.subplot(4,2,5)\n",
    "sns.boxplot(df['Cylinders'])\n",
    "\n",
    "plt.subplot(4,2,6)\n",
    "sns.boxplot(df['Number_of_gears'])\n",
    "\n",
    "plt.subplot(4,2,7)\n",
    "sns.boxplot(df['CO2 Emissions(g/km)'])\n",
    "\n",
    "plt.suptitle('Outliers',fontsize=30)\n",
    "plt.show()"
   ]
  },
  {
   "cell_type": "markdown",
   "id": "720fee11",
   "metadata": {},
   "source": [
    "### Handling the Outliers:"
   ]
  },
  {
   "cell_type": "code",
   "execution_count": 31,
   "id": "2e8e67a5",
   "metadata": {},
   "outputs": [],
   "source": [
    "outlier = []\n",
    "\n",
    "def outlier_iqr(data): #making a function to detect outlier using IQR \n",
    "    \n",
    "    q1 = data.quantile(0.25)\n",
    "    q3 = data.quantile(0.75)\n",
    "    iqr = q3-q1\n",
    "    lower_fence = q1-(1.5*iqr)\n",
    "    higher_fence = q3+(1.5*iqr)\n",
    "    \n",
    "    for index,row in data.items():\n",
    "        if row < lower_fence or row > higher_fence:\n",
    "            outlier.append(row)\n",
    "    return outlier"
   ]
  },
  {
   "cell_type": "code",
   "execution_count": 32,
   "id": "975ead0a",
   "metadata": {},
   "outputs": [],
   "source": [
    "outlier_cols = ['Engine Size(L)','fuel_consumption_city(kmpl)',\n",
    "                'fuel_consumption_hwy(kmpl)', 'fuel_consumption_comb(kmpl)','CO2 Emissions(g/km)']"
   ]
  },
  {
   "cell_type": "code",
   "execution_count": 33,
   "id": "c4d09828",
   "metadata": {},
   "outputs": [],
   "source": [
    "for col in outlier_cols:\n",
    "    outlier_iqr(df[col])\n",
    "    col_median = df[col].median()\n",
    "    for i in outlier:\n",
    "         df[col] = df[col].replace(i,col_median)"
   ]
  },
  {
   "cell_type": "code",
   "execution_count": 34,
   "id": "6e267aa4",
   "metadata": {},
   "outputs": [
    {
     "data": {
      "image/png": "[encoded data removed]",
      "text/plain": [
       "<Figure size 1500x800 with 7 Axes>"
      ]
     },
     "metadata": {},
     "output_type": "display_data"
    }
   ],
   "source": [
    "plt.figure(figsize=(15,8))\n",
    "\n",
    "plt.subplots_adjust(hspace=0.8,wspace=0.2)\n",
    "\n",
    "plt.subplot(4,2,1)\n",
    "sns.boxplot(df['fuel_consumption_city(kmpl)'])\n",
    "\n",
    "plt.subplot(4,2,2)\n",
    "sns.boxplot(df['fuel_consumption_hwy(kmpl)'])\n",
    "\n",
    "plt.subplot(4,2,3)\n",
    "sns.boxplot(df['fuel_consumption_comb(kmpl)'])\n",
    "\n",
    "plt.subplot(4,2,4)\n",
    "sns.boxplot(df['Engine Size(L)'])\n",
    "\n",
    "plt.subplot(4,2,5)\n",
    "sns.boxplot(df['Cylinders'])\n",
    "\n",
    "plt.subplot(4,2,6)\n",
    "sns.boxplot(df['Number_of_gears'])\n",
    "\n",
    "plt.subplot(4,2,7)\n",
    "sns.boxplot(df['CO2 Emissions(g/km)'])\n",
    "\n",
    "\n",
    "plt.show()"
   ]
  },
  {
   "cell_type": "markdown",
   "id": "777ede9a",
   "metadata": {},
   "source": [
    "## Data prepration for train test split"
   ]
  },
  {
   "cell_type": "code",
   "execution_count": 35,
   "id": "b3516d61",
   "metadata": {},
   "outputs": [],
   "source": [
    "from sklearn.model_selection import train_test_split\n",
    "from sklearn.preprocessing import StandardScaler,OneHotEncoder\n",
    "from sklearn.compose import ColumnTransformer\n",
    "from imblearn.pipeline import Pipeline"
   ]
  },
  {
   "cell_type": "code",
   "execution_count": 36,
   "id": "c936edfd",
   "metadata": {},
   "outputs": [],
   "source": [
    "X = df.drop('CO2 Emissions(g/km)',axis=1)\n",
    "y = df['CO2 Emissions(g/km)']"
   ]
  },
  {
   "cell_type": "code",
   "execution_count": 37,
   "id": "5fd69f12",
   "metadata": {},
   "outputs": [
    {
     "name": "stdout",
     "output_type": "stream",
     "text": [
      "Shape of X_train: (5538, 8)\n",
      "Shape of X_test: (1847, 8)\n"
     ]
    }
   ],
   "source": [
    "X_train,X_test,y_train,y_test = train_test_split(X,y,test_size=0.25,random_state=0)\n",
    "\n",
    "print(f'Shape of X_train: {X_train.shape}')\n",
    "print(f'Shape of X_test: {X_test.shape}')"
   ]
  },
  {
   "cell_type": "code",
   "execution_count": 38,
   "id": "ad58cf18",
   "metadata": {},
   "outputs": [],
   "source": [
    "categorical_cols = []\n",
    "numerical_cols = []\n",
    "\n",
    "for col in X.columns:\n",
    "    if X[col].dtypes=='object':\n",
    "        categorical_cols.append(col)\n",
    "    else:\n",
    "        numerical_cols.append(col)"
   ]
  },
  {
   "cell_type": "code",
   "execution_count": 39,
   "id": "4fa08c23",
   "metadata": {},
   "outputs": [
    {
     "data": {
      "text/plain": [
       "['Fuel Type', 'Transmission_type']"
      ]
     },
     "execution_count": 39,
     "metadata": {},
     "output_type": "execute_result"
    }
   ],
   "source": [
    "categorical_cols"
   ]
  },
  {
   "cell_type": "code",
   "execution_count": 40,
   "id": "ea995475",
   "metadata": {},
   "outputs": [
    {
     "data": {
      "text/plain": [
       "['Engine Size(L)',\n",
       " 'Cylinders',\n",
       " 'Number_of_gears',\n",
       " 'fuel_consumption_city(kmpl)',\n",
       " 'fuel_consumption_hwy(kmpl)',\n",
       " 'fuel_consumption_comb(kmpl)']"
      ]
     },
     "execution_count": 40,
     "metadata": {},
     "output_type": "execute_result"
    }
   ],
   "source": [
    "numerical_cols"
   ]
  },
  {
   "cell_type": "markdown",
   "id": "554da98e",
   "metadata": {},
   "source": [
    "### Encoding and Scaling"
   ]
  },
  {
   "cell_type": "code",
   "execution_count": 41,
   "id": "4503d08c",
   "metadata": {},
   "outputs": [],
   "source": [
    "preprocessor = ColumnTransformer(\n",
    "    transformers=[\n",
    "    ('num', StandardScaler(), numerical_cols),\n",
    "    ('cat', OneHotEncoder(), categorical_cols)\n",
    "    ])"
   ]
  },
  {
   "cell_type": "code",
   "execution_count": 42,
   "id": "eb697a76",
   "metadata": {},
   "outputs": [],
   "source": [
    "col = ['Model','Training_Accuracy','Testing_Accuracy' ,'MSE',\n",
    "       'RMSE','R_square','Adjusted_R_square','MAE','MAPE']\n",
    "\n",
    "model_report = pd.DataFrame( columns=col)"
   ]
  },
  {
   "cell_type": "code",
   "execution_count": 43,
   "id": "4ad0b8c0",
   "metadata": {},
   "outputs": [
    {
     "data": {
      "text/html": [
       "<div>\n",
       "<style scoped>\n",
       "    .dataframe tbody tr th:only-of-type {\n",
       "        vertical-align: middle;\n",
       "    }\n",
       "\n",
       "    .dataframe tbody tr th {\n",
       "        vertical-align: top;\n",
       "    }\n",
       "\n",
       "    .dataframe thead th {\n",
       "        text-align: right;\n",
       "    }\n",
       "</style>\n",
       "<table border=\"1\" class=\"dataframe\">\n",
       "  <thead>\n",
       "    <tr style=\"text-align: right;\">\n",
       "      <th></th>\n",
       "      <th>Model</th>\n",
       "      <th>Training_Accuracy</th>\n",
       "      <th>Testing_Accuracy</th>\n",
       "      <th>MSE</th>\n",
       "      <th>RMSE</th>\n",
       "      <th>R_square</th>\n",
       "      <th>Adjusted_R_square</th>\n",
       "      <th>MAE</th>\n",
       "      <th>MAPE</th>\n",
       "    </tr>\n",
       "  </thead>\n",
       "  <tbody>\n",
       "  </tbody>\n",
       "</table>\n",
       "</div>"
      ],
      "text/plain": [
       "Empty DataFrame\n",
       "Columns: [Model, Training_Accuracy, Testing_Accuracy, MSE, RMSE, R_square, Adjusted_R_square, MAE, MAPE]\n",
       "Index: []"
      ]
     },
     "execution_count": 43,
     "metadata": {},
     "output_type": "execute_result"
    }
   ],
   "source": [
    "model_report"
   ]
  },
  {
   "cell_type": "markdown",
   "id": "31a4e65a",
   "metadata": {},
   "source": [
    "# Linear Regression:"
   ]
  },
  {
   "cell_type": "code",
   "execution_count": 44,
   "id": "7bcee2ab",
   "metadata": {},
   "outputs": [],
   "source": [
    "from sklearn.linear_model import LinearRegression,Lasso,Ridge"
   ]
  },
  {
   "cell_type": "code",
   "execution_count": 45,
   "id": "fee4a014",
   "metadata": {},
   "outputs": [
    {
     "data": {
      "text/plain": [
       "Pipeline(steps=[('preprocessor',\n",
       "                 ColumnTransformer(transformers=[('num', StandardScaler(),\n",
       "                                                  ['Engine Size(L)',\n",
       "                                                   'Cylinders',\n",
       "                                                   'Number_of_gears',\n",
       "                                                   'fuel_consumption_city(kmpl)',\n",
       "                                                   'fuel_consumption_hwy(kmpl)',\n",
       "                                                   'fuel_consumption_comb(kmpl)']),\n",
       "                                                 ('cat', OneHotEncoder(),\n",
       "                                                  ['Fuel Type',\n",
       "                                                   'Transmission_type'])])),\n",
       "                ('Linear', LinearRegression())])"
      ]
     },
     "execution_count": 45,
     "metadata": {},
     "output_type": "execute_result"
    }
   ],
   "source": [
    "lnr_reg = LinearRegression()\n",
    "\n",
    "lnr_pipe = Pipeline(steps=[('preprocessor',preprocessor),('Linear',lnr_reg)])\n",
    "\n",
    "lnr_pipe.fit(X_train,y_train)\n",
    "\n"
   ]
  },
  {
   "cell_type": "code",
   "execution_count": 46,
   "id": "e967a909",
   "metadata": {},
   "outputs": [
    {
     "data": {
      "text/plain": [
       "array([249.375, 212.75 , 252.375, ..., 317.875, 271.625, 235.625])"
      ]
     },
     "execution_count": 46,
     "metadata": {},
     "output_type": "execute_result"
    }
   ],
   "source": [
    "lnr_pred = lnr_pipe.predict(X_test)\n",
    "\n",
    "lnr_pred"
   ]
  },
  {
   "cell_type": "markdown",
   "id": "b101373d",
   "metadata": {},
   "source": [
    "## Model Evaluation:"
   ]
  },
  {
   "cell_type": "code",
   "execution_count": 47,
   "id": "4e7ad6d3",
   "metadata": {},
   "outputs": [],
   "source": [
    "from sklearn.metrics import mean_absolute_error as MAE \n",
    "from sklearn.metrics import mean_squared_error as MSE\n",
    "from sklearn.metrics import mean_absolute_percentage_error as MAPE\n",
    "from sklearn.metrics import r2_score\n",
    "import math"
   ]
  },
  {
   "cell_type": "markdown",
   "id": "bfede39e",
   "metadata": {},
   "source": [
    "### Training and Test accuracy:"
   ]
  },
  {
   "cell_type": "code",
   "execution_count": 48,
   "id": "e80f615a",
   "metadata": {},
   "outputs": [
    {
     "data": {
      "text/plain": [
       "0.8424"
      ]
     },
     "execution_count": 48,
     "metadata": {},
     "output_type": "execute_result"
    }
   ],
   "source": [
    "training_ac_lnr = round(lnr_pipe.score(X_train,y_train),4)\n",
    "training_ac_lnr"
   ]
  },
  {
   "cell_type": "code",
   "execution_count": 49,
   "id": "f5dd5d59",
   "metadata": {},
   "outputs": [
    {
     "data": {
      "text/plain": [
       "0.8331"
      ]
     },
     "execution_count": 49,
     "metadata": {},
     "output_type": "execute_result"
    }
   ],
   "source": [
    "test_ac_lnr = round(lnr_pipe.score(X_test,y_test),4)\n",
    "test_ac_lnr"
   ]
  },
  {
   "cell_type": "markdown",
   "id": "7694e6d7",
   "metadata": {},
   "source": [
    "### R-squared and Adjusted R-squared:"
   ]
  },
  {
   "cell_type": "code",
   "execution_count": 50,
   "id": "2cf9c824",
   "metadata": {},
   "outputs": [
    {
     "data": {
      "text/plain": [
       "0.8331"
      ]
     },
     "execution_count": 50,
     "metadata": {},
     "output_type": "execute_result"
    }
   ],
   "source": [
    "r2_lnr = round(r2_score(y_true=y_test,y_pred=lnr_pred),4)\n",
    "r2_lnr"
   ]
  },
  {
   "cell_type": "code",
   "execution_count": 51,
   "id": "efc4e859",
   "metadata": {},
   "outputs": [
    {
     "data": {
      "text/plain": [
       "0.8329"
      ]
     },
     "execution_count": 51,
     "metadata": {},
     "output_type": "execute_result"
    }
   ],
   "source": [
    "adj_r2_lnr = round(1 - ((1-r2_lnr)*(len(y)-1)/(len(y)-X.shape[1]-1)),4)\n",
    "adj_r2_lnr"
   ]
  },
  {
   "cell_type": "markdown",
   "id": "fda2da7d",
   "metadata": {},
   "source": [
    "### Mean squared error and Root mean Squared error"
   ]
  },
  {
   "cell_type": "code",
   "execution_count": 52,
   "id": "3d45b97e",
   "metadata": {},
   "outputs": [
    {
     "data": {
      "text/plain": [
       "499.4279"
      ]
     },
     "execution_count": 52,
     "metadata": {},
     "output_type": "execute_result"
    }
   ],
   "source": [
    "mse_lnr = round(MSE(y_true=y_test,y_pred=lnr_pred),4)\n",
    "mse_lnr"
   ]
  },
  {
   "cell_type": "code",
   "execution_count": 53,
   "id": "307d7a76",
   "metadata": {},
   "outputs": [
    {
     "data": {
      "text/plain": [
       "22.3479"
      ]
     },
     "execution_count": 53,
     "metadata": {},
     "output_type": "execute_result"
    }
   ],
   "source": [
    "rmse_lnr = round(math.sqrt(mse_lnr),4)\n",
    "rmse_lnr"
   ]
  },
  {
   "cell_type": "markdown",
   "id": "f989a897",
   "metadata": {},
   "source": [
    "### Mean Absolute Error and Mean Absolute Percentage Error"
   ]
  },
  {
   "cell_type": "code",
   "execution_count": 54,
   "id": "9b961481",
   "metadata": {},
   "outputs": [
    {
     "data": {
      "text/plain": [
       "13.0747"
      ]
     },
     "execution_count": 54,
     "metadata": {},
     "output_type": "execute_result"
    }
   ],
   "source": [
    "mae_lnr = round(MAE(y_true=y_test,y_pred=lnr_pred),4)\n",
    "mae_lnr"
   ]
  },
  {
   "cell_type": "code",
   "execution_count": 55,
   "id": "cd0238f0",
   "metadata": {},
   "outputs": [
    {
     "data": {
      "text/plain": [
       "6.1224"
      ]
     },
     "execution_count": 55,
     "metadata": {},
     "output_type": "execute_result"
    }
   ],
   "source": [
    "mape_lnr = round(MAPE(y_true=y_test,y_pred=lnr_pred)*100,4)\n",
    "mape_lnr"
   ]
  },
  {
   "cell_type": "code",
   "execution_count": 56,
   "id": "c1427967",
   "metadata": {},
   "outputs": [],
   "source": [
    "lnr_row = {'Model': 'Linear_Regression',\n",
    "           'Training_Accuracy': training_ac_lnr,\n",
    "           'Testing_Accuracy' : test_ac_lnr ,\n",
    "           'MSE': mse_lnr,\n",
    "           'RMSE' :  rmse_lnr,\n",
    "           'R_square' : r2_lnr,\n",
    "           'Adjusted_R_square' : adj_r2_lnr,\n",
    "           'MAE': mae_lnr,\n",
    "           'MAPE':mape_lnr\n",
    "                    } "
   ]
  },
  {
   "cell_type": "code",
   "execution_count": 57,
   "id": "a3fd6124",
   "metadata": {},
   "outputs": [],
   "source": [
    "model_report.loc[0]=lnr_row"
   ]
  },
  {
   "cell_type": "code",
   "execution_count": 58,
   "id": "210454a4",
   "metadata": {},
   "outputs": [
    {
     "data": {
      "text/html": [
       "<div>\n",
       "<style scoped>\n",
       "    .dataframe tbody tr th:only-of-type {\n",
       "        vertical-align: middle;\n",
       "    }\n",
       "\n",
       "    .dataframe tbody tr th {\n",
       "        vertical-align: top;\n",
       "    }\n",
       "\n",
       "    .dataframe thead th {\n",
       "        text-align: right;\n",
       "    }\n",
       "</style>\n",
       "<table border=\"1\" class=\"dataframe\">\n",
       "  <thead>\n",
       "    <tr style=\"text-align: right;\">\n",
       "      <th></th>\n",
       "      <th>Model</th>\n",
       "      <th>Training_Accuracy</th>\n",
       "      <th>Testing_Accuracy</th>\n",
       "      <th>MSE</th>\n",
       "      <th>RMSE</th>\n",
       "      <th>R_square</th>\n",
       "      <th>Adjusted_R_square</th>\n",
       "      <th>MAE</th>\n",
       "      <th>MAPE</th>\n",
       "    </tr>\n",
       "  </thead>\n",
       "  <tbody>\n",
       "    <tr>\n",
       "      <th>0</th>\n",
       "      <td>Linear_Regression</td>\n",
       "      <td>0.8424</td>\n",
       "      <td>0.8331</td>\n",
       "      <td>499.4279</td>\n",
       "      <td>22.3479</td>\n",
       "      <td>0.8331</td>\n",
       "      <td>0.8329</td>\n",
       "      <td>13.0747</td>\n",
       "      <td>6.1224</td>\n",
       "    </tr>\n",
       "  </tbody>\n",
       "</table>\n",
       "</div>"
      ],
      "text/plain": [
       "               Model  Training_Accuracy  Testing_Accuracy       MSE     RMSE  \\\n",
       "0  Linear_Regression             0.8424            0.8331  499.4279  22.3479   \n",
       "\n",
       "   R_square  Adjusted_R_square      MAE    MAPE  \n",
       "0    0.8331             0.8329  13.0747  6.1224  "
      ]
     },
     "execution_count": 58,
     "metadata": {},
     "output_type": "execute_result"
    }
   ],
   "source": [
    "model_report"
   ]
  },
  {
   "cell_type": "markdown",
   "id": "5e48852f",
   "metadata": {},
   "source": [
    "# Lasso Regression"
   ]
  },
  {
   "cell_type": "code",
   "execution_count": 59,
   "id": "79923790",
   "metadata": {},
   "outputs": [
    {
     "data": {
      "text/plain": [
       "Pipeline(steps=[('preprocessor',\n",
       "                 ColumnTransformer(transformers=[('num', StandardScaler(),\n",
       "                                                  ['Engine Size(L)',\n",
       "                                                   'Cylinders',\n",
       "                                                   'Number_of_gears',\n",
       "                                                   'fuel_consumption_city(kmpl)',\n",
       "                                                   'fuel_consumption_hwy(kmpl)',\n",
       "                                                   'fuel_consumption_comb(kmpl)']),\n",
       "                                                 ('cat', OneHotEncoder(),\n",
       "                                                  ['Fuel Type',\n",
       "                                                   'Transmission_type'])])),\n",
       "                ('Lasso', Lasso())])"
      ]
     },
     "execution_count": 59,
     "metadata": {},
     "output_type": "execute_result"
    }
   ],
   "source": [
    "lso_reg = Lasso()\n",
    "\n",
    "lso_pipe = Pipeline(steps=[('preprocessor',preprocessor),('Lasso',lso_reg)])\n",
    "\n",
    "lso_pipe.fit(X_train,y_train)"
   ]
  },
  {
   "cell_type": "code",
   "execution_count": 60,
   "id": "7d31c814",
   "metadata": {},
   "outputs": [
    {
     "data": {
      "text/plain": [
       "array([246.74819519, 198.19311844, 259.24745932, ..., 311.9967167 ,\n",
       "       266.77438051, 232.81666767])"
      ]
     },
     "execution_count": 60,
     "metadata": {},
     "output_type": "execute_result"
    }
   ],
   "source": [
    "lso_pred = lso_pipe.predict(X_test)\n",
    "\n",
    "lso_pred"
   ]
  },
  {
   "cell_type": "markdown",
   "id": "d428603b",
   "metadata": {},
   "source": [
    "### Training and Test accuracy:"
   ]
  },
  {
   "cell_type": "code",
   "execution_count": 61,
   "id": "7c8fc573",
   "metadata": {},
   "outputs": [
    {
     "data": {
      "text/plain": [
       "0.8209"
      ]
     },
     "execution_count": 61,
     "metadata": {},
     "output_type": "execute_result"
    }
   ],
   "source": [
    "training_ac_lso = round(lso_pipe.score(X_train,y_train),4)\n",
    "training_ac_lso"
   ]
  },
  {
   "cell_type": "code",
   "execution_count": 62,
   "id": "585dc0ac",
   "metadata": {},
   "outputs": [
    {
     "data": {
      "text/plain": [
       "0.8139"
      ]
     },
     "execution_count": 62,
     "metadata": {},
     "output_type": "execute_result"
    }
   ],
   "source": [
    "test_ac_lso = round(lso_pipe.score(X_test,y_test),4)\n",
    "test_ac_lso"
   ]
  },
  {
   "cell_type": "markdown",
   "id": "65bc84a9",
   "metadata": {},
   "source": [
    "### R-squared and Adjusted R-squared:"
   ]
  },
  {
   "cell_type": "code",
   "execution_count": 63,
   "id": "6dee718e",
   "metadata": {},
   "outputs": [
    {
     "data": {
      "text/plain": [
       "0.8139"
      ]
     },
     "execution_count": 63,
     "metadata": {},
     "output_type": "execute_result"
    }
   ],
   "source": [
    "r2_lso = round(r2_score(y_true=y_test,y_pred=lso_pred),4)\n",
    "r2_lso"
   ]
  },
  {
   "cell_type": "code",
   "execution_count": 64,
   "id": "5ad18e56",
   "metadata": {},
   "outputs": [
    {
     "data": {
      "text/plain": [
       "0.8137"
      ]
     },
     "execution_count": 64,
     "metadata": {},
     "output_type": "execute_result"
    }
   ],
   "source": [
    "adj_r2_lso = round(1 - ((1-r2_lso)*(len(y)-1)/(len(y)-X.shape[1]-1)),4)\n",
    "adj_r2_lso"
   ]
  },
  {
   "cell_type": "markdown",
   "id": "baeff8aa",
   "metadata": {},
   "source": [
    "### Mean squared error and Root mean Squared error"
   ]
  },
  {
   "cell_type": "code",
   "execution_count": 65,
   "id": "899d937a",
   "metadata": {},
   "outputs": [
    {
     "data": {
      "text/plain": [
       "557.0259"
      ]
     },
     "execution_count": 65,
     "metadata": {},
     "output_type": "execute_result"
    }
   ],
   "source": [
    "mse_lso = round(MSE(y_true=y_test,y_pred=lso_pred),4)\n",
    "mse_lso"
   ]
  },
  {
   "cell_type": "code",
   "execution_count": 66,
   "id": "53ac37dd",
   "metadata": {},
   "outputs": [
    {
     "data": {
      "text/plain": [
       "23.6014"
      ]
     },
     "execution_count": 66,
     "metadata": {},
     "output_type": "execute_result"
    }
   ],
   "source": [
    "rmse_lso = round(math.sqrt(mse_lso),4)\n",
    "rmse_lso"
   ]
  },
  {
   "cell_type": "markdown",
   "id": "79941c38",
   "metadata": {},
   "source": [
    "### Mean Absolute Error and Mean Absolute Percentage Error"
   ]
  },
  {
   "cell_type": "code",
   "execution_count": 67,
   "id": "53013e96",
   "metadata": {},
   "outputs": [
    {
     "data": {
      "text/plain": [
       "14.1946"
      ]
     },
     "execution_count": 67,
     "metadata": {},
     "output_type": "execute_result"
    }
   ],
   "source": [
    "mae_lso = round(MAE(y_true=y_test,y_pred=lso_pred),4)\n",
    "mae_lso"
   ]
  },
  {
   "cell_type": "code",
   "execution_count": 68,
   "id": "dd5257b3",
   "metadata": {},
   "outputs": [
    {
     "data": {
      "text/plain": [
       "6.4425"
      ]
     },
     "execution_count": 68,
     "metadata": {},
     "output_type": "execute_result"
    }
   ],
   "source": [
    "mape_lso = round(MAPE(y_true=y_test,y_pred=lso_pred)*100,4)\n",
    "mape_lso"
   ]
  },
  {
   "cell_type": "code",
   "execution_count": 69,
   "id": "7522d130",
   "metadata": {},
   "outputs": [],
   "source": [
    "lso_row = {'Model': 'Linear_Regression',\n",
    "           'Training_Accuracy': training_ac_lso,\n",
    "           'Testing_Accuracy' : test_ac_lso ,\n",
    "           'MSE': mse_lso,\n",
    "           'RMSE' :  rmse_lso,\n",
    "           'R_square' : r2_lso,\n",
    "           'Adjusted_R_square' : adj_r2_lso,\n",
    "           'MAE': mae_lso,\n",
    "           'MAPE':mape_lso\n",
    "                    } \n",
    "\n",
    "model_report.loc[1]=lso_row"
   ]
  },
  {
   "cell_type": "markdown",
   "id": "7d948b51",
   "metadata": {},
   "source": [
    "# Ridge Regression"
   ]
  },
  {
   "cell_type": "code",
   "execution_count": 70,
   "id": "7441f6e2",
   "metadata": {},
   "outputs": [
    {
     "data": {
      "text/plain": [
       "Pipeline(steps=[('preprocessor',\n",
       "                 ColumnTransformer(transformers=[('num', StandardScaler(),\n",
       "                                                  ['Engine Size(L)',\n",
       "                                                   'Cylinders',\n",
       "                                                   'Number_of_gears',\n",
       "                                                   'fuel_consumption_city(kmpl)',\n",
       "                                                   'fuel_consumption_hwy(kmpl)',\n",
       "                                                   'fuel_consumption_comb(kmpl)']),\n",
       "                                                 ('cat', OneHotEncoder(),\n",
       "                                                  ['Fuel Type',\n",
       "                                                   'Transmission_type'])])),\n",
       "                ('Ridge', Ridge())])"
      ]
     },
     "execution_count": 70,
     "metadata": {},
     "output_type": "execute_result"
    }
   ],
   "source": [
    "rdg_reg = Ridge()\n",
    "\n",
    "rdg_pipe = Pipeline(steps=[('preprocessor',preprocessor),('Ridge',rdg_reg)])\n",
    "\n",
    "rdg_pipe.fit(X_train,y_train)"
   ]
  },
  {
   "cell_type": "code",
   "execution_count": 71,
   "id": "a727359e",
   "metadata": {},
   "outputs": [
    {
     "data": {
      "text/plain": [
       "array([249.12991   , 213.42192519, 252.31061186, ..., 316.55969949,\n",
       "       271.37426221, 236.70066306])"
      ]
     },
     "execution_count": 71,
     "metadata": {},
     "output_type": "execute_result"
    }
   ],
   "source": [
    "rdg_pred = rdg_pipe.predict(X_test)\n",
    "\n",
    "rdg_pred"
   ]
  },
  {
   "cell_type": "markdown",
   "id": "1a9f6313",
   "metadata": {},
   "source": [
    "### Training and Test accuracy:"
   ]
  },
  {
   "cell_type": "code",
   "execution_count": 72,
   "id": "f25d12bf",
   "metadata": {},
   "outputs": [
    {
     "data": {
      "text/plain": [
       "0.843"
      ]
     },
     "execution_count": 72,
     "metadata": {},
     "output_type": "execute_result"
    }
   ],
   "source": [
    "training_ac_rdg = round(rdg_pipe.score(X_train,y_train),4)\n",
    "training_ac_rdg"
   ]
  },
  {
   "cell_type": "code",
   "execution_count": 73,
   "id": "f4a200cd",
   "metadata": {},
   "outputs": [
    {
     "data": {
      "text/plain": [
       "0.8346"
      ]
     },
     "execution_count": 73,
     "metadata": {},
     "output_type": "execute_result"
    }
   ],
   "source": [
    "test_ac_rdg = round(rdg_pipe.score(X_test,y_test),4)\n",
    "test_ac_rdg"
   ]
  },
  {
   "cell_type": "markdown",
   "id": "2a3959dc",
   "metadata": {},
   "source": [
    "### R-squared and Adjusted R-squared:"
   ]
  },
  {
   "cell_type": "code",
   "execution_count": 74,
   "id": "6c9a41b0",
   "metadata": {},
   "outputs": [
    {
     "data": {
      "text/plain": [
       "0.8346"
      ]
     },
     "execution_count": 74,
     "metadata": {},
     "output_type": "execute_result"
    }
   ],
   "source": [
    "r2_rdg = round(r2_score(y_true=y_test,y_pred=rdg_pred),4)\n",
    "r2_rdg"
   ]
  },
  {
   "cell_type": "code",
   "execution_count": 75,
   "id": "b9286e43",
   "metadata": {},
   "outputs": [
    {
     "data": {
      "text/plain": [
       "0.8344"
      ]
     },
     "execution_count": 75,
     "metadata": {},
     "output_type": "execute_result"
    }
   ],
   "source": [
    "adj_r2_rdg = round(1 - ((1-r2_rdg)*(len(y)-1)/(len(y)-X.shape[1]-1)),4)\n",
    "adj_r2_rdg"
   ]
  },
  {
   "cell_type": "markdown",
   "id": "76087c3b",
   "metadata": {},
   "source": [
    "### Mean squared error and Root mean Squared error"
   ]
  },
  {
   "cell_type": "code",
   "execution_count": 76,
   "id": "34e49d15",
   "metadata": {},
   "outputs": [
    {
     "data": {
      "text/plain": [
       "495.0238"
      ]
     },
     "execution_count": 76,
     "metadata": {},
     "output_type": "execute_result"
    }
   ],
   "source": [
    "mse_rdg = round(MSE(y_true=y_test,y_pred=rdg_pred),4)\n",
    "mse_rdg"
   ]
  },
  {
   "cell_type": "code",
   "execution_count": 77,
   "id": "e366f142",
   "metadata": {},
   "outputs": [
    {
     "data": {
      "text/plain": [
       "22.2491"
      ]
     },
     "execution_count": 77,
     "metadata": {},
     "output_type": "execute_result"
    }
   ],
   "source": [
    "rmse_rdg = round(math.sqrt(mse_rdg),4)\n",
    "rmse_rdg"
   ]
  },
  {
   "cell_type": "markdown",
   "id": "b667a216",
   "metadata": {},
   "source": [
    "### Mean Absolute Error and Mean Absolute Percentage Error"
   ]
  },
  {
   "cell_type": "code",
   "execution_count": 78,
   "id": "1d1036c4",
   "metadata": {},
   "outputs": [
    {
     "data": {
      "text/plain": [
       "12.8472"
      ]
     },
     "execution_count": 78,
     "metadata": {},
     "output_type": "execute_result"
    }
   ],
   "source": [
    "mae_rdg = round(MAE(y_true=y_test,y_pred=rdg_pred),4)\n",
    "mae_rdg"
   ]
  },
  {
   "cell_type": "code",
   "execution_count": 79,
   "id": "5a7383b1",
   "metadata": {},
   "outputs": [
    {
     "data": {
      "text/plain": [
       "6.0196"
      ]
     },
     "execution_count": 79,
     "metadata": {},
     "output_type": "execute_result"
    }
   ],
   "source": [
    "mape_rdg = round(MAPE(y_true=y_test,y_pred=rdg_pred)*100,4)\n",
    "mape_rdg"
   ]
  },
  {
   "cell_type": "code",
   "execution_count": 80,
   "id": "d2692b8a",
   "metadata": {},
   "outputs": [],
   "source": [
    "rdg_row = {'Model': 'Linear_Regression',\n",
    "           'Training_Accuracy': training_ac_rdg,\n",
    "           'Testing_Accuracy' : test_ac_rdg ,\n",
    "           'MSE': mse_rdg,\n",
    "           'RMSE' :  rmse_rdg,\n",
    "           'R_square' : r2_rdg,\n",
    "           'Adjusted_R_square' : adj_r2_rdg,\n",
    "           'MAE': mae_rdg,\n",
    "           'MAPE':mape_rdg\n",
    "                    } \n",
    "\n",
    "model_report.loc[2]=rdg_row"
   ]
  },
  {
   "cell_type": "code",
   "execution_count": 81,
   "id": "e2a0569f",
   "metadata": {},
   "outputs": [
    {
     "data": {
      "text/html": [
       "<div>\n",
       "<style scoped>\n",
       "    .dataframe tbody tr th:only-of-type {\n",
       "        vertical-align: middle;\n",
       "    }\n",
       "\n",
       "    .dataframe tbody tr th {\n",
       "        vertical-align: top;\n",
       "    }\n",
       "\n",
       "    .dataframe thead th {\n",
       "        text-align: right;\n",
       "    }\n",
       "</style>\n",
       "<table border=\"1\" class=\"dataframe\">\n",
       "  <thead>\n",
       "    <tr style=\"text-align: right;\">\n",
       "      <th></th>\n",
       "      <th>Model</th>\n",
       "      <th>Training_Accuracy</th>\n",
       "      <th>Testing_Accuracy</th>\n",
       "      <th>MSE</th>\n",
       "      <th>RMSE</th>\n",
       "      <th>R_square</th>\n",
       "      <th>Adjusted_R_square</th>\n",
       "      <th>MAE</th>\n",
       "      <th>MAPE</th>\n",
       "    </tr>\n",
       "  </thead>\n",
       "  <tbody>\n",
       "    <tr>\n",
       "      <th>0</th>\n",
       "      <td>Linear_Regression</td>\n",
       "      <td>0.8424</td>\n",
       "      <td>0.8331</td>\n",
       "      <td>499.4279</td>\n",
       "      <td>22.3479</td>\n",
       "      <td>0.8331</td>\n",
       "      <td>0.8329</td>\n",
       "      <td>13.0747</td>\n",
       "      <td>6.1224</td>\n",
       "    </tr>\n",
       "    <tr>\n",
       "      <th>1</th>\n",
       "      <td>Linear_Regression</td>\n",
       "      <td>0.8209</td>\n",
       "      <td>0.8139</td>\n",
       "      <td>557.0259</td>\n",
       "      <td>23.6014</td>\n",
       "      <td>0.8139</td>\n",
       "      <td>0.8137</td>\n",
       "      <td>14.1946</td>\n",
       "      <td>6.4425</td>\n",
       "    </tr>\n",
       "    <tr>\n",
       "      <th>2</th>\n",
       "      <td>Linear_Regression</td>\n",
       "      <td>0.8430</td>\n",
       "      <td>0.8346</td>\n",
       "      <td>495.0238</td>\n",
       "      <td>22.2491</td>\n",
       "      <td>0.8346</td>\n",
       "      <td>0.8344</td>\n",
       "      <td>12.8472</td>\n",
       "      <td>6.0196</td>\n",
       "    </tr>\n",
       "  </tbody>\n",
       "</table>\n",
       "</div>"
      ],
      "text/plain": [
       "               Model  Training_Accuracy  Testing_Accuracy       MSE     RMSE  \\\n",
       "0  Linear_Regression             0.8424            0.8331  499.4279  22.3479   \n",
       "1  Linear_Regression             0.8209            0.8139  557.0259  23.6014   \n",
       "2  Linear_Regression             0.8430            0.8346  495.0238  22.2491   \n",
       "\n",
       "   R_square  Adjusted_R_square      MAE    MAPE  \n",
       "0    0.8331             0.8329  13.0747  6.1224  \n",
       "1    0.8139             0.8137  14.1946  6.4425  \n",
       "2    0.8346             0.8344  12.8472  6.0196  "
      ]
     },
     "execution_count": 81,
     "metadata": {},
     "output_type": "execute_result"
    }
   ],
   "source": [
    "model_report"
   ]
  },
  {
   "cell_type": "markdown",
   "id": "180841c9",
   "metadata": {},
   "source": [
    "# Decision Tree Regressor Model"
   ]
  },
  {
   "cell_type": "code",
   "execution_count": 82,
   "id": "dba43192",
   "metadata": {},
   "outputs": [],
   "source": [
    "from sklearn.tree import DecisionTreeRegressor"
   ]
  },
  {
   "cell_type": "code",
   "execution_count": 83,
   "id": "537b072c",
   "metadata": {},
   "outputs": [],
   "source": [
    "dt_reg = DecisionTreeRegressor()"
   ]
  },
  {
   "cell_type": "code",
   "execution_count": 84,
   "id": "6ab160c2",
   "metadata": {},
   "outputs": [
    {
     "data": {
      "text/plain": [
       "Pipeline(steps=[('preprocessor',\n",
       "                 ColumnTransformer(transformers=[('num', StandardScaler(),\n",
       "                                                  ['Engine Size(L)',\n",
       "                                                   'Cylinders',\n",
       "                                                   'Number_of_gears',\n",
       "                                                   'fuel_consumption_city(kmpl)',\n",
       "                                                   'fuel_consumption_hwy(kmpl)',\n",
       "                                                   'fuel_consumption_comb(kmpl)']),\n",
       "                                                 ('cat', OneHotEncoder(),\n",
       "                                                  ['Fuel Type',\n",
       "                                                   'Transmission_type'])])),\n",
       "                ('dt_regressor', DecisionTreeRegressor())])"
      ]
     },
     "execution_count": 84,
     "metadata": {},
     "output_type": "execute_result"
    }
   ],
   "source": [
    "dt_pipe = Pipeline(steps=[('preprocessor',preprocessor),('dt_regressor',dt_reg)])\n",
    "\n",
    "dt_pipe.fit(X_train,y_train)"
   ]
  },
  {
   "cell_type": "code",
   "execution_count": 85,
   "id": "a9baa671",
   "metadata": {},
   "outputs": [],
   "source": [
    "dt_pred = dt_pipe.predict(X_test)"
   ]
  },
  {
   "cell_type": "code",
   "execution_count": 86,
   "id": "eb6420ea",
   "metadata": {},
   "outputs": [
    {
     "data": {
      "text/plain": [
       "array([241., 229., 257., ..., 315., 269., 243.])"
      ]
     },
     "execution_count": 86,
     "metadata": {},
     "output_type": "execute_result"
    }
   ],
   "source": [
    "dt_pred"
   ]
  },
  {
   "cell_type": "markdown",
   "id": "bd358743",
   "metadata": {},
   "source": [
    "#### Training and Test Accuracy:"
   ]
  },
  {
   "cell_type": "code",
   "execution_count": 87,
   "id": "3a4ad268",
   "metadata": {},
   "outputs": [
    {
     "data": {
      "text/plain": [
       "0.9991"
      ]
     },
     "execution_count": 87,
     "metadata": {},
     "output_type": "execute_result"
    }
   ],
   "source": [
    "training_ac_dt = round(dt_pipe.score(X_train,y_train),4)\n",
    "training_ac_dt"
   ]
  },
  {
   "cell_type": "code",
   "execution_count": 88,
   "id": "d55040f4",
   "metadata": {},
   "outputs": [
    {
     "data": {
      "text/plain": [
       "0.991"
      ]
     },
     "execution_count": 88,
     "metadata": {},
     "output_type": "execute_result"
    }
   ],
   "source": [
    "test_ac_dt = round(dt_pipe.score(X_test,y_test),4)\n",
    "test_ac_dt"
   ]
  },
  {
   "cell_type": "markdown",
   "id": "e475998d",
   "metadata": {},
   "source": [
    "#### R-squared and Adjusted R-squared:"
   ]
  },
  {
   "cell_type": "code",
   "execution_count": 89,
   "id": "bdac3f71",
   "metadata": {},
   "outputs": [
    {
     "data": {
      "text/plain": [
       "0.991"
      ]
     },
     "execution_count": 89,
     "metadata": {},
     "output_type": "execute_result"
    }
   ],
   "source": [
    "r2_dt = round(r2_score(y_true=y_test,y_pred=dt_pred),4)\n",
    "r2_dt"
   ]
  },
  {
   "cell_type": "code",
   "execution_count": 90,
   "id": "3e03c42f",
   "metadata": {},
   "outputs": [
    {
     "data": {
      "text/plain": [
       "0.991"
      ]
     },
     "execution_count": 90,
     "metadata": {},
     "output_type": "execute_result"
    }
   ],
   "source": [
    "adj_r2_dt = round(1 - ((1-r2_dt)*(len(y)-1)/(len(y)-X.shape[1]-1)),4)\n",
    "adj_r2_dt"
   ]
  },
  {
   "cell_type": "markdown",
   "id": "ec50f5fb",
   "metadata": {},
   "source": [
    "#### Mean Squared error and Root Mean Squared error:"
   ]
  },
  {
   "cell_type": "code",
   "execution_count": 91,
   "id": "c2c250b1",
   "metadata": {},
   "outputs": [
    {
     "data": {
      "text/plain": [
       "26.8144"
      ]
     },
     "execution_count": 91,
     "metadata": {},
     "output_type": "execute_result"
    }
   ],
   "source": [
    "mse_dt = round(MSE(y_true=y_test,y_pred=dt_pred),4)\n",
    "mse_dt"
   ]
  },
  {
   "cell_type": "code",
   "execution_count": 92,
   "id": "fb5080e4",
   "metadata": {},
   "outputs": [
    {
     "data": {
      "text/plain": [
       "5.1783"
      ]
     },
     "execution_count": 92,
     "metadata": {},
     "output_type": "execute_result"
    }
   ],
   "source": [
    "rmse_dt = round(math.sqrt(mse_dt),4)\n",
    "rmse_dt"
   ]
  },
  {
   "cell_type": "markdown",
   "id": "60f49568",
   "metadata": {},
   "source": [
    "#### Mean Absolute Error and Mean Absolute Percentage Error"
   ]
  },
  {
   "cell_type": "code",
   "execution_count": 93,
   "id": "be364e28",
   "metadata": {},
   "outputs": [
    {
     "data": {
      "text/plain": [
       "1.8733"
      ]
     },
     "execution_count": 93,
     "metadata": {},
     "output_type": "execute_result"
    }
   ],
   "source": [
    "mae_dt = round(MAE(y_true=y_test,y_pred=dt_pred),4)\n",
    "mae_dt"
   ]
  },
  {
   "cell_type": "code",
   "execution_count": 94,
   "id": "9f99a9b7",
   "metadata": {},
   "outputs": [
    {
     "data": {
      "text/plain": [
       "0.8761"
      ]
     },
     "execution_count": 94,
     "metadata": {},
     "output_type": "execute_result"
    }
   ],
   "source": [
    "mape_dt = round(MAPE(y_true=y_test,y_pred=dt_pred)*100,4)\n",
    "mape_dt"
   ]
  },
  {
   "cell_type": "code",
   "execution_count": 95,
   "id": "97d0a2d1",
   "metadata": {},
   "outputs": [],
   "source": [
    "dtr_row =  {\n",
    "            'Model': 'DecisionTreeRegressor',\n",
    "            'Training_Accuracy': training_ac_dt,\n",
    "            'Testing_Accuracy' : test_ac_dt,\n",
    "            'MSE': mse_dt,\n",
    "            'RMSE' :  rmse_dt,\n",
    "            'R_square'   : r2_dt,\n",
    "            'Adjusted_R_square' : adj_r2_dt,\n",
    "            'MAE': mae_dt,\n",
    "            'MAPE':mape_dt\n",
    "                    }  \n",
    "                   "
   ]
  },
  {
   "cell_type": "code",
   "execution_count": 96,
   "id": "868b785e",
   "metadata": {},
   "outputs": [],
   "source": [
    "model_report.loc[3] = dtr_row"
   ]
  },
  {
   "cell_type": "code",
   "execution_count": 97,
   "id": "34075042",
   "metadata": {},
   "outputs": [
    {
     "data": {
      "text/html": [
       "<div>\n",
       "<style scoped>\n",
       "    .dataframe tbody tr th:only-of-type {\n",
       "        vertical-align: middle;\n",
       "    }\n",
       "\n",
       "    .dataframe tbody tr th {\n",
       "        vertical-align: top;\n",
       "    }\n",
       "\n",
       "    .dataframe thead th {\n",
       "        text-align: right;\n",
       "    }\n",
       "</style>\n",
       "<table border=\"1\" class=\"dataframe\">\n",
       "  <thead>\n",
       "    <tr style=\"text-align: right;\">\n",
       "      <th></th>\n",
       "      <th>Model</th>\n",
       "      <th>Training_Accuracy</th>\n",
       "      <th>Testing_Accuracy</th>\n",
       "      <th>MSE</th>\n",
       "      <th>RMSE</th>\n",
       "      <th>R_square</th>\n",
       "      <th>Adjusted_R_square</th>\n",
       "      <th>MAE</th>\n",
       "      <th>MAPE</th>\n",
       "    </tr>\n",
       "  </thead>\n",
       "  <tbody>\n",
       "    <tr>\n",
       "      <th>0</th>\n",
       "      <td>Linear_Regression</td>\n",
       "      <td>0.8424</td>\n",
       "      <td>0.8331</td>\n",
       "      <td>499.4279</td>\n",
       "      <td>22.3479</td>\n",
       "      <td>0.8331</td>\n",
       "      <td>0.8329</td>\n",
       "      <td>13.0747</td>\n",
       "      <td>6.1224</td>\n",
       "    </tr>\n",
       "    <tr>\n",
       "      <th>1</th>\n",
       "      <td>Linear_Regression</td>\n",
       "      <td>0.8209</td>\n",
       "      <td>0.8139</td>\n",
       "      <td>557.0259</td>\n",
       "      <td>23.6014</td>\n",
       "      <td>0.8139</td>\n",
       "      <td>0.8137</td>\n",
       "      <td>14.1946</td>\n",
       "      <td>6.4425</td>\n",
       "    </tr>\n",
       "    <tr>\n",
       "      <th>2</th>\n",
       "      <td>Linear_Regression</td>\n",
       "      <td>0.8430</td>\n",
       "      <td>0.8346</td>\n",
       "      <td>495.0238</td>\n",
       "      <td>22.2491</td>\n",
       "      <td>0.8346</td>\n",
       "      <td>0.8344</td>\n",
       "      <td>12.8472</td>\n",
       "      <td>6.0196</td>\n",
       "    </tr>\n",
       "    <tr>\n",
       "      <th>3</th>\n",
       "      <td>DecisionTreeRegressor</td>\n",
       "      <td>0.9991</td>\n",
       "      <td>0.9910</td>\n",
       "      <td>26.8144</td>\n",
       "      <td>5.1783</td>\n",
       "      <td>0.9910</td>\n",
       "      <td>0.9910</td>\n",
       "      <td>1.8733</td>\n",
       "      <td>0.8761</td>\n",
       "    </tr>\n",
       "  </tbody>\n",
       "</table>\n",
       "</div>"
      ],
      "text/plain": [
       "                   Model  Training_Accuracy  Testing_Accuracy       MSE  \\\n",
       "0      Linear_Regression             0.8424            0.8331  499.4279   \n",
       "1      Linear_Regression             0.8209            0.8139  557.0259   \n",
       "2      Linear_Regression             0.8430            0.8346  495.0238   \n",
       "3  DecisionTreeRegressor             0.9991            0.9910   26.8144   \n",
       "\n",
       "      RMSE  R_square  Adjusted_R_square      MAE    MAPE  \n",
       "0  22.3479    0.8331             0.8329  13.0747  6.1224  \n",
       "1  23.6014    0.8139             0.8137  14.1946  6.4425  \n",
       "2  22.2491    0.8346             0.8344  12.8472  6.0196  \n",
       "3   5.1783    0.9910             0.9910   1.8733  0.8761  "
      ]
     },
     "execution_count": 97,
     "metadata": {},
     "output_type": "execute_result"
    }
   ],
   "source": [
    "model_report"
   ]
  },
  {
   "cell_type": "markdown",
   "id": "4c9dda67",
   "metadata": {},
   "source": [
    "# SVR:"
   ]
  },
  {
   "cell_type": "code",
   "execution_count": 98,
   "id": "e1e36e93",
   "metadata": {},
   "outputs": [],
   "source": [
    "from sklearn.svm import SVR\n",
    "\n",
    "svr = SVR()"
   ]
  },
  {
   "cell_type": "code",
   "execution_count": 99,
   "id": "bbc3b074",
   "metadata": {},
   "outputs": [
    {
     "data": {
      "text/plain": [
       "Pipeline(steps=[('preprocessor',\n",
       "                 ColumnTransformer(transformers=[('num', StandardScaler(),\n",
       "                                                  ['Engine Size(L)',\n",
       "                                                   'Cylinders',\n",
       "                                                   'Number_of_gears',\n",
       "                                                   'fuel_consumption_city(kmpl)',\n",
       "                                                   'fuel_consumption_hwy(kmpl)',\n",
       "                                                   'fuel_consumption_comb(kmpl)']),\n",
       "                                                 ('cat', OneHotEncoder(),\n",
       "                                                  ['Fuel Type',\n",
       "                                                   'Transmission_type'])])),\n",
       "                ('SVR', SVR())])"
      ]
     },
     "execution_count": 99,
     "metadata": {},
     "output_type": "execute_result"
    }
   ],
   "source": [
    "svr_pipe = Pipeline(steps=[('preprocessor',preprocessor),('SVR',svr)])\n",
    "\n",
    "svr_pipe.fit(X_train,y_train)"
   ]
  },
  {
   "cell_type": "code",
   "execution_count": 100,
   "id": "95fc1ce6",
   "metadata": {},
   "outputs": [
    {
     "data": {
      "text/plain": [
       "array([240.09436244, 210.55555645, 251.33027552, ..., 317.30179452,\n",
       "       275.21173943, 243.48988346])"
      ]
     },
     "execution_count": 100,
     "metadata": {},
     "output_type": "execute_result"
    }
   ],
   "source": [
    "svr_pred = svr_pipe.predict(X_test)\n",
    "\n",
    "svr_pred"
   ]
  },
  {
   "cell_type": "markdown",
   "id": "bc755543",
   "metadata": {},
   "source": [
    "### Training and Test Accuracy:\n"
   ]
  },
  {
   "cell_type": "code",
   "execution_count": 101,
   "id": "0e27f27c",
   "metadata": {},
   "outputs": [
    {
     "data": {
      "text/plain": [
       "0.8542"
      ]
     },
     "execution_count": 101,
     "metadata": {},
     "output_type": "execute_result"
    }
   ],
   "source": [
    "training_ac_svr = round(svr_pipe.score(X_train,y_train),4)\n",
    "training_ac_svr"
   ]
  },
  {
   "cell_type": "code",
   "execution_count": 102,
   "id": "593c23f5",
   "metadata": {},
   "outputs": [
    {
     "data": {
      "text/plain": [
       "0.8439"
      ]
     },
     "execution_count": 102,
     "metadata": {},
     "output_type": "execute_result"
    }
   ],
   "source": [
    "test_ac_svr = round(svr_pipe.score(X_test,y_test),4)\n",
    "test_ac_svr"
   ]
  },
  {
   "cell_type": "markdown",
   "id": "8a8ffc82",
   "metadata": {},
   "source": [
    "### R-squared and Adjusted R-squared:"
   ]
  },
  {
   "cell_type": "code",
   "execution_count": 103,
   "id": "7872e3a7",
   "metadata": {},
   "outputs": [
    {
     "data": {
      "text/plain": [
       "0.8439"
      ]
     },
     "execution_count": 103,
     "metadata": {},
     "output_type": "execute_result"
    }
   ],
   "source": [
    "r2_svr = round(r2_score(y_true=y_test,y_pred=svr_pred),4)\n",
    "r2_svr"
   ]
  },
  {
   "cell_type": "code",
   "execution_count": 104,
   "id": "aa9e541e",
   "metadata": {},
   "outputs": [
    {
     "data": {
      "text/plain": [
       "0.8437"
      ]
     },
     "execution_count": 104,
     "metadata": {},
     "output_type": "execute_result"
    }
   ],
   "source": [
    "adj_r2_svr = round(1 - ((1-r2_svr)*(len(y)-1)/(len(y)-X.shape[1]-1)),4)\n",
    "adj_r2_svr"
   ]
  },
  {
   "cell_type": "markdown",
   "id": "996df3f7",
   "metadata": {},
   "source": [
    "### Mean Squared error and Root Mean Squared error:"
   ]
  },
  {
   "cell_type": "code",
   "execution_count": 105,
   "id": "89117b5a",
   "metadata": {},
   "outputs": [
    {
     "data": {
      "text/plain": [
       "467.05"
      ]
     },
     "execution_count": 105,
     "metadata": {},
     "output_type": "execute_result"
    }
   ],
   "source": [
    "mse_svr = round(MSE(y_true=y_test,y_pred=svr_pred),4)\n",
    "mse_svr"
   ]
  },
  {
   "cell_type": "code",
   "execution_count": 106,
   "id": "5b1a44a6",
   "metadata": {},
   "outputs": [
    {
     "data": {
      "text/plain": [
       "21.6113"
      ]
     },
     "execution_count": 106,
     "metadata": {},
     "output_type": "execute_result"
    }
   ],
   "source": [
    "rmse_svr = round(math.sqrt(mse_svr),4)\n",
    "rmse_svr"
   ]
  },
  {
   "cell_type": "markdown",
   "id": "02658d70",
   "metadata": {},
   "source": [
    "### Mean Absolute Error and Mean Absolute Percentage Error"
   ]
  },
  {
   "cell_type": "code",
   "execution_count": 107,
   "id": "4f9cc6e8",
   "metadata": {},
   "outputs": [
    {
     "data": {
      "text/plain": [
       "10.1788"
      ]
     },
     "execution_count": 107,
     "metadata": {},
     "output_type": "execute_result"
    }
   ],
   "source": [
    "mae_svr = round(MAE(y_true=y_test,y_pred=svr_pred),4)\n",
    "mae_svr"
   ]
  },
  {
   "cell_type": "code",
   "execution_count": 108,
   "id": "23ea71e0",
   "metadata": {},
   "outputs": [
    {
     "data": {
      "text/plain": [
       "4.8311"
      ]
     },
     "execution_count": 108,
     "metadata": {},
     "output_type": "execute_result"
    }
   ],
   "source": [
    "mape_svr = round(MAPE(y_true=y_test,y_pred=svr_pred)*100,4)\n",
    "mape_svr"
   ]
  },
  {
   "cell_type": "code",
   "execution_count": 109,
   "id": "3685e353",
   "metadata": {},
   "outputs": [],
   "source": [
    "svr_row = {'Model': 'SVR',\n",
    "           'Training_Accuracy': training_ac_svr,\n",
    "           'Testing_Accuracy' : test_ac_svr ,\n",
    "           'MSE': mse_svr,\n",
    "           'RMSE' :  rmse_svr,\n",
    "           'R_square' : r2_svr,\n",
    "           'Adjusted_R_square' : adj_r2_svr,\n",
    "           'MAE': mae_svr,\n",
    "           'MAPE':mape_svr\n",
    "                    }                   \n",
    "                "
   ]
  },
  {
   "cell_type": "code",
   "execution_count": 110,
   "id": "879901fe",
   "metadata": {},
   "outputs": [],
   "source": [
    "model_report.loc[4] = svr_row"
   ]
  },
  {
   "cell_type": "code",
   "execution_count": 111,
   "id": "e5b394c7",
   "metadata": {},
   "outputs": [
    {
     "data": {
      "text/html": [
       "<div>\n",
       "<style scoped>\n",
       "    .dataframe tbody tr th:only-of-type {\n",
       "        vertical-align: middle;\n",
       "    }\n",
       "\n",
       "    .dataframe tbody tr th {\n",
       "        vertical-align: top;\n",
       "    }\n",
       "\n",
       "    .dataframe thead th {\n",
       "        text-align: right;\n",
       "    }\n",
       "</style>\n",
       "<table border=\"1\" class=\"dataframe\">\n",
       "  <thead>\n",
       "    <tr style=\"text-align: right;\">\n",
       "      <th></th>\n",
       "      <th>Model</th>\n",
       "      <th>Training_Accuracy</th>\n",
       "      <th>Testing_Accuracy</th>\n",
       "      <th>MSE</th>\n",
       "      <th>RMSE</th>\n",
       "      <th>R_square</th>\n",
       "      <th>Adjusted_R_square</th>\n",
       "      <th>MAE</th>\n",
       "      <th>MAPE</th>\n",
       "    </tr>\n",
       "  </thead>\n",
       "  <tbody>\n",
       "    <tr>\n",
       "      <th>0</th>\n",
       "      <td>Linear_Regression</td>\n",
       "      <td>0.8424</td>\n",
       "      <td>0.8331</td>\n",
       "      <td>499.4279</td>\n",
       "      <td>22.3479</td>\n",
       "      <td>0.8331</td>\n",
       "      <td>0.8329</td>\n",
       "      <td>13.0747</td>\n",
       "      <td>6.1224</td>\n",
       "    </tr>\n",
       "    <tr>\n",
       "      <th>1</th>\n",
       "      <td>Linear_Regression</td>\n",
       "      <td>0.8209</td>\n",
       "      <td>0.8139</td>\n",
       "      <td>557.0259</td>\n",
       "      <td>23.6014</td>\n",
       "      <td>0.8139</td>\n",
       "      <td>0.8137</td>\n",
       "      <td>14.1946</td>\n",
       "      <td>6.4425</td>\n",
       "    </tr>\n",
       "    <tr>\n",
       "      <th>2</th>\n",
       "      <td>Linear_Regression</td>\n",
       "      <td>0.8430</td>\n",
       "      <td>0.8346</td>\n",
       "      <td>495.0238</td>\n",
       "      <td>22.2491</td>\n",
       "      <td>0.8346</td>\n",
       "      <td>0.8344</td>\n",
       "      <td>12.8472</td>\n",
       "      <td>6.0196</td>\n",
       "    </tr>\n",
       "    <tr>\n",
       "      <th>3</th>\n",
       "      <td>DecisionTreeRegressor</td>\n",
       "      <td>0.9991</td>\n",
       "      <td>0.9910</td>\n",
       "      <td>26.8144</td>\n",
       "      <td>5.1783</td>\n",
       "      <td>0.9910</td>\n",
       "      <td>0.9910</td>\n",
       "      <td>1.8733</td>\n",
       "      <td>0.8761</td>\n",
       "    </tr>\n",
       "    <tr>\n",
       "      <th>4</th>\n",
       "      <td>SVR</td>\n",
       "      <td>0.8542</td>\n",
       "      <td>0.8439</td>\n",
       "      <td>467.0500</td>\n",
       "      <td>21.6113</td>\n",
       "      <td>0.8439</td>\n",
       "      <td>0.8437</td>\n",
       "      <td>10.1788</td>\n",
       "      <td>4.8311</td>\n",
       "    </tr>\n",
       "  </tbody>\n",
       "</table>\n",
       "</div>"
      ],
      "text/plain": [
       "                   Model  Training_Accuracy  Testing_Accuracy       MSE  \\\n",
       "0      Linear_Regression             0.8424            0.8331  499.4279   \n",
       "1      Linear_Regression             0.8209            0.8139  557.0259   \n",
       "2      Linear_Regression             0.8430            0.8346  495.0238   \n",
       "3  DecisionTreeRegressor             0.9991            0.9910   26.8144   \n",
       "4                    SVR             0.8542            0.8439  467.0500   \n",
       "\n",
       "      RMSE  R_square  Adjusted_R_square      MAE    MAPE  \n",
       "0  22.3479    0.8331             0.8329  13.0747  6.1224  \n",
       "1  23.6014    0.8139             0.8137  14.1946  6.4425  \n",
       "2  22.2491    0.8346             0.8344  12.8472  6.0196  \n",
       "3   5.1783    0.9910             0.9910   1.8733  0.8761  \n",
       "4  21.6113    0.8439             0.8437  10.1788  4.8311  "
      ]
     },
     "execution_count": 111,
     "metadata": {},
     "output_type": "execute_result"
    }
   ],
   "source": [
    "model_report"
   ]
  },
  {
   "cell_type": "markdown",
   "id": "d19b0d42",
   "metadata": {},
   "source": [
    "The Decision Tree Regressor shows the best fit but is prone to overfitting. SVR is the second best  model."
   ]
  },
  {
   "cell_type": "code",
   "execution_count": null,
   "id": "7d6e41cb",
   "metadata": {},
   "outputs": [],
   "source": []
  },
  {
   "cell_type": "code",
   "execution_count": null,
   "id": "7f81d4bd",
   "metadata": {},
   "outputs": [],
   "source": []
  },
  {
   "cell_type": "code",
   "execution_count": null,
   "id": "644e816a",
   "metadata": {},
   "outputs": [],
   "source": []
  }
 ],
 "metadata": {
  "kernelspec": {
   "display_name": "Python 3",
   "language": "python",
   "name": "python3"
  },
  "language_info": {
   "codemirror_mode": {
    "name": "ipython",
    "version": 3
   },
   "file_extension": ".py",
   "mimetype": "text/x-python",
   "name": "python",
   "nbconvert_exporter": "python",
   "pygments_lexer": "ipython3",
   "version": "3.9.13"
  }
 },
 "nbformat": 4,
 "nbformat_minor": 5
}
